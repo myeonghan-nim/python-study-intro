{
 "cells": [
  {
   "cell_type": "markdown",
   "metadata": {},
   "source": [
    "# 함수(function)"
   ]
  },
  {
   "cell_type": "markdown",
   "metadata": {},
   "source": [
    "## 함수의 선언과 호출\n",
    "\n",
    "함수 선언과 호출은 아래 코드처럼 수행합니다.\n",
    "\n",
    "```python\n",
    "def func(param1, param2, ):\n",
    "    return value\n",
    "\n",
    "\n",
    "func(param1, param2)\n",
    "```\n",
    "\n",
    "1. 선언은 `def`로 시작해 `:`로 끝나고 다음 라인부터 **4 spaces 들여쓰기**로 블록을 구분합니다.\n",
    "2. 함수에 **매개변수(parameter)**를 넘겨줄 수 있습니다.\n",
    "3. 함수 코드 블록을 실행한 후에 `return`으로 결과값을 전달합니다. 단, 함수 하나에 return은 하나이어야 합니다(`return`이 없으면 None을 반환합니다).\n",
    "4. 호출할 때는 `func(param1, param2)`을 사용합니다.\n",
    "\n"
   ]
  },
  {
   "cell_type": "code",
   "execution_count": 1,
   "metadata": {},
   "outputs": [
    {
     "output_type": "stream",
     "name": "stdout",
     "text": [
      "(3500, 240)\n"
     ]
    }
   ],
   "source": [
    "def rectangle(width, height):\n",
    "    area = width * height\n",
    "    perimeter = (width + height) * 2\n",
    "    return area, perimeter\n",
    "\n",
    "    \n",
    "print(rectangle(50, 70))"
   ]
  },
  {
   "cell_type": "code",
   "execution_count": 2,
   "metadata": {},
   "outputs": [
    {
     "output_type": "execute_result",
     "data": {
      "text/plain": [
       "['ArithmeticError',\n",
       " 'AssertionError',\n",
       " 'AttributeError',\n",
       " 'BaseException',\n",
       " 'BlockingIOError',\n",
       " 'BrokenPipeError',\n",
       " 'BufferError',\n",
       " 'BytesWarning',\n",
       " 'ChildProcessError',\n",
       " 'ConnectionAbortedError',\n",
       " 'ConnectionError',\n",
       " 'ConnectionRefusedError',\n",
       " 'ConnectionResetError',\n",
       " 'DeprecationWarning',\n",
       " 'EOFError',\n",
       " 'Ellipsis',\n",
       " 'EnvironmentError',\n",
       " 'Exception',\n",
       " 'False',\n",
       " 'FileExistsError',\n",
       " 'FileNotFoundError',\n",
       " 'FloatingPointError',\n",
       " 'FutureWarning',\n",
       " 'GeneratorExit',\n",
       " 'IOError',\n",
       " 'ImportError',\n",
       " 'ImportWarning',\n",
       " 'IndentationError',\n",
       " 'IndexError',\n",
       " 'InterruptedError',\n",
       " 'IsADirectoryError',\n",
       " 'KeyError',\n",
       " 'KeyboardInterrupt',\n",
       " 'LookupError',\n",
       " 'MemoryError',\n",
       " 'ModuleNotFoundError',\n",
       " 'NameError',\n",
       " 'None',\n",
       " 'NotADirectoryError',\n",
       " 'NotImplemented',\n",
       " 'NotImplementedError',\n",
       " 'OSError',\n",
       " 'OverflowError',\n",
       " 'PendingDeprecationWarning',\n",
       " 'PermissionError',\n",
       " 'ProcessLookupError',\n",
       " 'RecursionError',\n",
       " 'ReferenceError',\n",
       " 'ResourceWarning',\n",
       " 'RuntimeError',\n",
       " 'RuntimeWarning',\n",
       " 'StopAsyncIteration',\n",
       " 'StopIteration',\n",
       " 'SyntaxError',\n",
       " 'SyntaxWarning',\n",
       " 'SystemError',\n",
       " 'SystemExit',\n",
       " 'TabError',\n",
       " 'TimeoutError',\n",
       " 'True',\n",
       " 'TypeError',\n",
       " 'UnboundLocalError',\n",
       " 'UnicodeDecodeError',\n",
       " 'UnicodeEncodeError',\n",
       " 'UnicodeError',\n",
       " 'UnicodeTranslateError',\n",
       " 'UnicodeWarning',\n",
       " 'UserWarning',\n",
       " 'ValueError',\n",
       " 'Warning',\n",
       " 'WindowsError',\n",
       " 'ZeroDivisionError',\n",
       " '__IPYTHON__',\n",
       " '__build_class__',\n",
       " '__debug__',\n",
       " '__doc__',\n",
       " '__import__',\n",
       " '__loader__',\n",
       " '__name__',\n",
       " '__package__',\n",
       " '__spec__',\n",
       " 'abs',\n",
       " 'all',\n",
       " 'any',\n",
       " 'ascii',\n",
       " 'bin',\n",
       " 'bool',\n",
       " 'breakpoint',\n",
       " 'bytearray',\n",
       " 'bytes',\n",
       " 'callable',\n",
       " 'chr',\n",
       " 'classmethod',\n",
       " 'compile',\n",
       " 'complex',\n",
       " 'copyright',\n",
       " 'credits',\n",
       " 'delattr',\n",
       " 'dict',\n",
       " 'dir',\n",
       " 'display',\n",
       " 'divmod',\n",
       " 'enumerate',\n",
       " 'eval',\n",
       " 'exec',\n",
       " 'filter',\n",
       " 'float',\n",
       " 'format',\n",
       " 'frozenset',\n",
       " 'get_ipython',\n",
       " 'getattr',\n",
       " 'globals',\n",
       " 'hasattr',\n",
       " 'hash',\n",
       " 'help',\n",
       " 'hex',\n",
       " 'id',\n",
       " 'input',\n",
       " 'int',\n",
       " 'isinstance',\n",
       " 'issubclass',\n",
       " 'iter',\n",
       " 'len',\n",
       " 'license',\n",
       " 'list',\n",
       " 'locals',\n",
       " 'map',\n",
       " 'max',\n",
       " 'memoryview',\n",
       " 'min',\n",
       " 'next',\n",
       " 'object',\n",
       " 'oct',\n",
       " 'open',\n",
       " 'ord',\n",
       " 'pow',\n",
       " 'print',\n",
       " 'property',\n",
       " 'range',\n",
       " 'repr',\n",
       " 'reversed',\n",
       " 'round',\n",
       " 'set',\n",
       " 'setattr',\n",
       " 'slice',\n",
       " 'sorted',\n",
       " 'staticmethod',\n",
       " 'str',\n",
       " 'sum',\n",
       " 'super',\n",
       " 'tuple',\n",
       " 'type',\n",
       " 'vars',\n",
       " 'zip']"
      ]
     },
     "metadata": {},
     "execution_count": 2
    }
   ],
   "source": [
    "dir(__builtins__)"
   ]
  },
  {
   "cell_type": "markdown",
   "metadata": {},
   "source": [
    "### 실습1: 최대값\n",
    "\n",
    "두 수 중 최대값을 구하는 함수를 작성해보세요."
   ]
  },
  {
   "cell_type": "code",
   "execution_count": 3,
   "metadata": {},
   "outputs": [
    {
     "output_type": "stream",
     "name": "stdout",
     "text": [
      "5\n6\n"
     ]
    }
   ],
   "source": [
    "def my_max(a, b):\n",
    "    return a if a > b else b\n",
    "\n",
    "\n",
    "print(my_max(1, 5))\n",
    "print(my_max(6, 2))"
   ]
  },
  {
   "cell_type": "markdown",
   "metadata": {},
   "source": [
    "### 실습2: 리스트의 최대값\n",
    "\n",
    "리스트 두 개를 받아 각 리스트를 더한 결과가 더 큰 리스트를 반환합니다."
   ]
  },
  {
   "cell_type": "code",
   "execution_count": 4,
   "metadata": {},
   "outputs": [
    {
     "output_type": "stream",
     "name": "stdout",
     "text": [
      "[5, 9]\n"
     ]
    }
   ],
   "source": [
    "def my_list_max(a, b):\n",
    "    return a if sum(a) > sum(b) else b\n",
    "\n",
    "\n",
    "print(my_list_max([10, 3], [5, 9]))"
   ]
  },
  {
   "cell_type": "markdown",
   "metadata": {},
   "source": [
    "## 함수의 인자\n",
    "\n",
    "함수는 `인자(parameter)`를 넘겨줄 수 있습니다. 인자는 위치를 기준으로 판단하고 기본 값을 지정할 수 있습니다."
   ]
  },
  {
   "cell_type": "code",
   "execution_count": 5,
   "metadata": {},
   "outputs": [
    {
     "output_type": "stream",
     "name": "stdout",
     "text": [
      "(3, 29)\n"
     ]
    }
   ],
   "source": [
    "def divide(a, b):\n",
    "    return a // b, a % b\n",
    "\n",
    "\n",
    "print(divide(197, 56))"
   ]
  },
  {
   "cell_type": "markdown",
   "metadata": {},
   "source": [
    "### 키워드 인자(Keyword Arguments)\n",
    "\n",
    "키워드 인자는 직접 이름을 지정해 특정 인자를 전달할 수 있습니다. 단, 키워드 인자는 뒤에 일반 인자가 올 수 없습니다."
   ]
  },
  {
   "cell_type": "code",
   "execution_count": 6,
   "metadata": {},
   "outputs": [
    {
     "output_type": "error",
     "ename": "SyntaxError",
     "evalue": "non-default argument follows default argument (Temp/ipykernel_18112/2073050981.py, line 1)",
     "traceback": [
      "\u001b[1;36m  File \u001b[1;32m\"C:\\Users\\atara\\AppData\\Local\\Temp/ipykernel_18112/2073050981.py\"\u001b[1;36m, line \u001b[1;32m1\u001b[0m\n\u001b[1;33m    def greeting(name='unkwon', age):\u001b[0m\n\u001b[1;37m                                   ^\u001b[0m\n\u001b[1;31mSyntaxError\u001b[0m\u001b[1;31m:\u001b[0m non-default argument follows default argument\n"
     ]
    }
   ],
   "source": [
    "def greeting(name='unkwon', age):\n",
    "    return f'Hello, {name}. Are you {age} old?'"
   ]
  },
  {
   "cell_type": "code",
   "execution_count": 7,
   "metadata": {},
   "outputs": [
    {
     "output_type": "stream",
     "name": "stdout",
     "text": [
      "Hello, change. Are you 26 old?\n"
     ]
    }
   ],
   "source": [
    "def greeting(name, age=25):\n",
    "    return f'Hello, {name}. Are you {age} old?'\n",
    "\n",
    "\n",
    "print(greeting(name='change', age=26))"
   ]
  },
  {
   "cell_type": "markdown",
   "metadata": {},
   "source": [
    "### 정의되지 않은 인자, 가변 인자\n",
    "\n",
    "정의되지 않은 인자를 가변 인자라고 합니다. 타입은 `tuple`이고 `*`를 앞에 붙입니다. "
   ]
  },
  {
   "cell_type": "code",
   "execution_count": 8,
   "metadata": {},
   "outputs": [
    {
     "output_type": "stream",
     "name": "stdout",
     "text": [
      "14\n"
     ]
    }
   ],
   "source": [
    "def my_max(*args):\n",
    "    res = args[0]\n",
    "    for num in args:\n",
    "        res = num if res <= num else res\n",
    "    return res\n",
    "\n",
    "\n",
    "print(my_max(1, -32, -43, 14))"
   ]
  },
  {
   "cell_type": "markdown",
   "metadata": {},
   "source": [
    "### 정의되지 않은 키워드 인자\n",
    "\n",
    "정의되지 않은 키워드 인자들은 `dict`로 묶이고 `**`를 앞에 붙입니다. `kwagrs`라는 이름을 사용합니다."
   ]
  },
  {
   "cell_type": "code",
   "execution_count": 9,
   "metadata": {},
   "outputs": [
    {
     "output_type": "stream",
     "name": "stdout",
     "text": [
      "{'apple': 'red', 'banana': 'yellow'}\n"
     ]
    }
   ],
   "source": [
    "def fake_dict(**kwargs):\n",
    "    result = {}\n",
    "    for key, val in kwargs.items():\n",
    "        result[key] = val\n",
    "    return result\n",
    "\n",
    "\n",
    "print(fake_dict(apple='red', banana='yellow'))"
   ]
  },
  {
   "cell_type": "markdown",
   "metadata": {},
   "source": [
    "###  실습3: 편하게 URL 만들기\n",
    "\n",
    "url 패턴 문자열을 반환하는 `get_url` 함수를 만들어보세요. 기본 변수와 필요한 인자는 다음과 같습니다.\n",
    "\n",
    "1. 기본 변수: `URL = http://www.kobis.or.kr/kobisopenapi/webservice/rest/boxoffice/searchDailyBoxOfficeList.json?`\n",
    "2. 필요 인자\n",
    "    - key: 발급받은 키 값, abc 형식\n",
    "    - targetDt: 날짜, yyyymmdd 형식\n",
    "    - itemPerPage : 1 ~ 10, 기본 값은 10"
   ]
  },
  {
   "cell_type": "code",
   "execution_count": 10,
   "metadata": {},
   "outputs": [
    {
     "output_type": "stream",
     "name": "stdout",
     "text": [
      "http://www.kobis.or.kr/kobisopenapi/webservice/rest/boxoffice/searchDailyBoxOfficeList.json?itemPerPage=10&key=abc&targetDt=20190717&\n"
     ]
    }
   ],
   "source": [
    "def get_url(itemPerPage=10, **kwargs):\n",
    "    URL = 'http://www.kobis.or.kr/kobisopenapi/webservice/rest/boxoffice/searchDailyBoxOfficeList.json?'\n",
    "\n",
    "    URL += f'itemPerPage={itemPerPage}&'\n",
    "    for key, val in kwargs.items():\n",
    "        URL += f'{key}={val}&'\n",
    "\n",
    "    return URL\n",
    "\n",
    "\n",
    "data = {'key': 'abc', 'targetDt': '20190717'}\n",
    "print(get_url(**data))"
   ]
  },
  {
   "cell_type": "markdown",
   "metadata": {},
   "source": [
    "## 네임 스페이스와 스코프\n",
    "\n",
    "Python에서 사용되는 변수들은 각 네임 스페이스에 저장되어 있습니다. 변수 값을 찾을 때 아래 순서를 거칩니다.\n",
    "\n",
    "* `L`ocal scope: 정의된 함수, 해당 함수가 종료되면 사라집니다.\n",
    "* `E`nclosed scope: 상위 함수, 해당 함수가 종료되면 사라집니다.\n",
    "* `G`lobal scope: 함수 밖의 변수 혹은 import된 모듈, 해당 모듈이나 파일이 종료되면 사라집니다.\n",
    "* `B`uilt-in scope: Python에 내장된 함수 또는 속성, 실행 중인 프로그램이 종료되면 사라집니다."
   ]
  },
  {
   "cell_type": "code",
   "execution_count": 11,
   "metadata": {},
   "outputs": [
    {
     "output_type": "stream",
     "name": "stdout",
     "text": [
      "a is changed to 5.\n1\n"
     ]
    }
   ],
   "source": [
    "a = 1\n",
    "\n",
    "\n",
    "def global_scope():\n",
    "    a = 5\n",
    "    print(f'a is changed to {a}.')\n",
    "    \n",
    "    \n",
    "global_scope()\n",
    "print(a)"
   ]
  },
  {
   "cell_type": "code",
   "execution_count": 12,
   "metadata": {},
   "outputs": [
    {
     "output_type": "stream",
     "name": "stdout",
     "text": [
      "a is changed to 5.\n5\n"
     ]
    }
   ],
   "source": [
    "a = 1\n",
    "\n",
    "\n",
    "def global_scope():\n",
    "    global a\n",
    "\n",
    "    a = 5\n",
    "    print(f'a is changed to {a}.')\n",
    "    \n",
    "    \n",
    "global_scope()\n",
    "print(a)"
   ]
  },
  {
   "cell_type": "markdown",
   "metadata": {},
   "source": [
    "## 재귀 함수(recursive function)\n",
    "\n",
    "재귀 함수는 자기 자신을 다시 호출 하는 함수를 뜻합니다. 재귀 함수의 특징은 다음과 같습니다.\n",
    "\n",
    "1. 점점 문제 범위가 줄어들 때 용이합니다.\n",
    "2. 반드시 더 이상 반복되지 않는 영역인 `base case`가 있어야 합니다.\n",
    "3. 직관적이고 이해하기 쉬운 코드지만 만들기 어렵습니다.\n",
    "4. 메모리 스택이 넘치거나(stack overflow) 프로그램 실행 속도가 늘어질 수 있습니다."
   ]
  },
  {
   "cell_type": "markdown",
   "metadata": {},
   "source": [
    "### 실습4: 팩토리얼 계산\n",
    "\n",
    "`팩토리얼(factorial)`을 계산하는 함수 `fact(n)`를 작성해보세요. n은 1보다 큰 정수입니다."
   ]
  },
  {
   "cell_type": "code",
   "execution_count": 13,
   "metadata": {},
   "outputs": [
    {
     "output_type": "stream",
     "name": "stdout",
     "text": [
      "120\n"
     ]
    }
   ],
   "source": [
    "def fact(n):\n",
    "    return n if n <= 1 else fact(n - 1) * n\n",
    "\n",
    "\n",
    "print(fact(5))"
   ]
  },
  {
   "cell_type": "markdown",
   "metadata": {},
   "source": [
    "### 실습5: 피보나치 수열\n",
    "\n",
    "피보나치 수열을 계산하는 재귀 함수와 반복문을 사용한 일반 함수를 작성해보세요."
   ]
  },
  {
   "cell_type": "code",
   "execution_count": 14,
   "metadata": {},
   "outputs": [
    {
     "output_type": "stream",
     "name": "stdout",
     "text": [
      "Recursive: 5702887\nLoop: 5702887\n"
     ]
    }
   ],
   "source": [
    "def recursive(n):\n",
    "    return 1 if n <= 1 else recursive(n - 1) + recursive(n - 2)\n",
    "\n",
    "\n",
    "def loop(n):\n",
    "    arr = [1, 1]\n",
    "    for i in range(1, n):\n",
    "        arr.append(arr[-1] + arr[-2])\n",
    "    return arr[-1]\n",
    "\n",
    "\n",
    "print('Recursive:', recursive(33))\n",
    "print('Loop:', loop(33))"
   ]
  }
 ],
 "metadata": {
  "kernelspec": {
   "name": "python3",
   "display_name": "Python 3.9.6 64-bit"
  },
  "language_info": {
   "codemirror_mode": {
    "name": "ipython",
    "version": 3
   },
   "file_extension": ".py",
   "mimetype": "text/x-python",
   "name": "python",
   "nbconvert_exporter": "python",
   "pygments_lexer": "ipython3",
   "version": "3.9.6"
  },
  "interpreter": {
   "hash": "f35fc79419f428a04d94f3b50c385284aa458c4e0d0bb24e14f83429163e39ac"
  }
 },
 "nbformat": 4,
 "nbformat_minor": 2
}