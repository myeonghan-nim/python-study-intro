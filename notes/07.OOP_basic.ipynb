{
 "cells": [
  {
   "cell_type": "markdown",
   "metadata": {},
   "source": [
    "# OOP"
   ]
  },
  {
   "source": [
    "## OOP\n",
    "\n",
    "객체 지향 프로그래밍(Object-Oriented Programming, OOP)은 컴퓨터 프로그래밍 패러다임 중 하나로 프로그램을 단순히 명령어의 목록으로 보는 시각에서 벗어나 여러 개의 독립된 단위, 즉 **객체**들의 모임으로 파악하는 것입니다. 이 때, 각 객체는 메시지를 주고 받고 각자 내부에서 데이터를 처리할 수 있습니다. 명령형 프로그래밍인 절차 지향 프로그래밍에서 발전된 형태를 가지며 기본 구성요소는 다음과 같습니다.\n",
    "\n",
    "1. 클래스(Class)\n",
    "    - 특정 데이터가 가지는 **속성(attribute)**과 **행위(behavior)**를 정의한 것으로 객체 지향 프로그램의 기본 사용자 정의 데이터형입니다.\n",
    "    - 클래스는 다른 클래스 또는 외부 요소와 독립적으로 디자인하여야 합니다.\n",
    "2. 인스턴스(instance)\n",
    "    - 클래스가 실제로 메모리에 할당된 것을 의미합니다.\n",
    "    - 객체는 고유 속성(attribute)을 가지며 정의한 행위(behavior)를 수행할 수 있습니다.\n",
    "    - 객체의 행위는 클래스에서 정의한 행위를 공유하여 메모리를 경제적으로 사용합니다.\n",
    "3. 속성(attribute)\n",
    "    - 클래스/인스턴스가 가지고 있는 속성(값) 입니다.\n",
    "4. 메서드(Method)\n",
    "    - 클래스/인스턴스가 할 수 있는 행위(함수) 입니다."
   ],
   "cell_type": "markdown",
   "metadata": {}
  },
  {
   "cell_type": "code",
   "execution_count": 1,
   "metadata": {},
   "outputs": [
    {
     "output_type": "stream",
     "name": "stdout",
     "text": [
      "<class 'complex'>\n3.0\n4.0\n"
     ]
    }
   ],
   "source": [
    "number = 3 + 4j\n",
    "\n",
    "print(type(3 + 4j))\n",
    "\n",
    "print(number.real)\n",
    "print(number.imag)"
   ]
  },
  {
   "cell_type": "code",
   "execution_count": 2,
   "metadata": {},
   "outputs": [
    {
     "output_type": "stream",
     "name": "stdout",
     "text": [
      "[1, 2, 3, 4, 5]\n"
     ]
    }
   ],
   "source": [
    "numbers = [5, 4, 3, 2, 1]\n",
    "numbers.sort()\n",
    "\n",
    "print(numbers)"
   ]
  },
  {
   "cell_type": "code",
   "execution_count": 3,
   "metadata": {},
   "outputs": [
    {
     "output_type": "execute_result",
     "data": {
      "text/plain": [
       "['__add__',\n",
       " '__class__',\n",
       " '__class_getitem__',\n",
       " '__contains__',\n",
       " '__delattr__',\n",
       " '__delitem__',\n",
       " '__dir__',\n",
       " '__doc__',\n",
       " '__eq__',\n",
       " '__format__',\n",
       " '__ge__',\n",
       " '__getattribute__',\n",
       " '__getitem__',\n",
       " '__gt__',\n",
       " '__hash__',\n",
       " '__iadd__',\n",
       " '__imul__',\n",
       " '__init__',\n",
       " '__init_subclass__',\n",
       " '__iter__',\n",
       " '__le__',\n",
       " '__len__',\n",
       " '__lt__',\n",
       " '__mul__',\n",
       " '__ne__',\n",
       " '__new__',\n",
       " '__reduce__',\n",
       " '__reduce_ex__',\n",
       " '__repr__',\n",
       " '__reversed__',\n",
       " '__rmul__',\n",
       " '__setattr__',\n",
       " '__setitem__',\n",
       " '__sizeof__',\n",
       " '__str__',\n",
       " '__subclasshook__',\n",
       " 'append',\n",
       " 'clear',\n",
       " 'copy',\n",
       " 'count',\n",
       " 'extend',\n",
       " 'index',\n",
       " 'insert',\n",
       " 'pop',\n",
       " 'remove',\n",
       " 'reverse',\n",
       " 'sort']"
      ]
     },
     "metadata": {},
     "execution_count": 3
    }
   ],
   "source": [
    "dir(list)"
   ]
  },
  {
   "cell_type": "markdown",
   "metadata": {},
   "source": [
    "### 실습1\n",
    "\n",
    "자신의 핸드폰을 코드로 옮겨봅시다. 이 때 핸드폰에 다음 속성과 메서드를 가지도록 설정하세요.\n",
    "\n",
    "1. 속성\n",
    "    - 전원(`power`): `bool`\n",
    "    - 내 전화번호(`number`): `str`\n",
    "    - 전화번호부(`book`): `dict`\n",
    "    - 모델명(`model`): `str`\n",
    "2. 메서드\n",
    "    - 켜기(`on()`)\n",
    "    - 끄기(`off()`)\n",
    "    - 내 전화번호 설정하기(`set_my_number(number)`)\n",
    "    - 전화 걸기(`call(number)`)\n",
    "    - 전화번호부에 번호 저장하기(`save(name, number)`)"
   ]
  },
  {
   "cell_type": "code",
   "execution_count": 4,
   "metadata": {},
   "outputs": [],
   "source": [
    "power = False\n",
    "number = ''\n",
    "book = {}\n",
    "model = 'Samsung Galaxy S10'\n",
    "\n",
    "\n",
    "def on():\n",
    "    global power\n",
    "\n",
    "    if not power:\n",
    "        power = True\n",
    "        return power\n",
    "\n",
    "    \n",
    "def off():\n",
    "    global power\n",
    "\n",
    "    if power:\n",
    "        power = False\n",
    "        return power\n",
    "    \n",
    "    \n",
    "def set_my_nubmer(my_number):\n",
    "    global power, number\n",
    "\n",
    "    if power:\n",
    "        number = my_number\n",
    "\n",
    "        \n",
    "def call(number):\n",
    "    global power, book\n",
    "\n",
    "    if power:\n",
    "        if number in book.values():\n",
    "            print(f'전화번호부에 있는 {number}에게 전화 중입니다.')\n",
    "        else:            \n",
    "            print(f'{number}에게 전화 중입니다.')\n",
    "\n",
    "            \n",
    "def save(name, number):\n",
    "    global power, book\n",
    "    \n",
    "    if power:\n",
    "        book[name] = number\n",
    "        return book"
   ]
  },
  {
   "cell_type": "markdown",
   "metadata": {},
   "source": [
    "위 코드는 다음 문제를 가지고 있습니다.\n",
    "\n",
    "1. 모든 핸드폰이 가지는 공통 속성과 행동들이 정의되어있지 않아 전화를 못 걸 수 있습니다. => `추상화`로 해결합니다.\n",
    "2. 값과 함수들이 묶여있지 않습니다. 데이터 저장 구조를 쉽게 알 수 없고 오류를 방지할 수 없습니다. => `캡슐화`로 해결합니다.\n",
    "3. 핸드폰 중에 특정 핸드폰들이 가지는 공통 특징을 구현하려면 같은 코드를 모든 핸드폰에 작성해야 합니다. => `상속`으로 해결합니다."
   ]
  },
  {
   "cell_type": "markdown",
   "metadata": {},
   "source": [
    "## 클래스와 인스턴스"
   ]
  },
  {
   "source": [
    "### 클래스 정의하기\n",
    "\n",
    "```python\n",
    "class ClassName:\n",
    "    pass\n",
    "```\n",
    "\n",
    "클래스는 선언과 동시에 클래스 객체가 생성됩니다. 선언된 공간은 로컬 스코프이며 정의된 변수는 멤버 변수로, 정의된 함수(`def`)는 메서드로 불립니다.\n",
    "\n",
    "클래스를 선언할 때 사용되는 키워드인 `self`는 인스턴스 객체 자기자신을 의미합니다. 특별한 상황을 제외하고는 **메서도의 첫 번째 인자는 무조건 `self` 입니다.**"
   ],
   "cell_type": "markdown",
   "metadata": {}
  },
  {
   "cell_type": "code",
   "execution_count": 5,
   "metadata": {},
   "outputs": [
    {
     "output_type": "stream",
     "name": "stdout",
     "text": [
      "<class 'type'>\n"
     ]
    }
   ],
   "source": [
    "class TestClass:\n",
    "    name = 'TestClass'\n",
    "\n",
    "\n",
    "print(type(TestClass))"
   ]
  },
  {
   "cell_type": "markdown",
   "metadata": {},
   "source": [
    "### 인스턴스 생성하기\n",
    "\n",
    "인스턴스 객체는 `ClassName()`으로 선언합니다. 인스턴스 객체와 클래스 객체는 서로 다른 네임 스페이스를 가지고 있고 변수를 **인스턴스 => 클래스 => 전역** 순서로 탐색합니다."
   ]
  },
  {
   "cell_type": "code",
   "execution_count": 6,
   "metadata": {},
   "outputs": [
    {
     "output_type": "stream",
     "name": "stdout",
     "text": [
      "<class '__main__.TestClass'>\nTestClass\n"
     ]
    }
   ],
   "source": [
    "tc = TestClass()\n",
    "\n",
    "print(type(tc))\n",
    "print(tc.name)"
   ]
  },
  {
   "cell_type": "code",
   "execution_count": 7,
   "metadata": {},
   "outputs": [],
   "source": [
    "class Phone:\n",
    "    def __init__(self, number, model):\n",
    "        self.number = number\n",
    "        self.model = model\n",
    "        self.power = False\n",
    "        self.book = {}\n",
    "\n",
    "    def on(self):\n",
    "        if not self.power:\n",
    "            self.power = True\n",
    "            print(f'{self.model} is now on.')\n",
    "\n",
    "    def off(self):\n",
    "        if self.power:\n",
    "            self.power = False\n",
    "            print(f'{self.model} is now off.')"
   ]
  },
  {
   "cell_type": "code",
   "execution_count": 8,
   "metadata": {},
   "outputs": [
    {
     "output_type": "stream",
     "name": "stdout",
     "text": [
      "S10 5G\nFalse\nS10 5G is now on.\nTrue\nS20 Ultra\n"
     ]
    }
   ],
   "source": [
    "my_phone = Phone('01054653245', 'S10 5G')\n",
    "\n",
    "print(my_phone.model)\n",
    "print(my_phone.power)\n",
    "\n",
    "my_phone.on()\n",
    "\n",
    "print(my_phone.power)\n",
    "\n",
    "my_phone.model = 'S20 Ultra'\n",
    "\n",
    "print(my_phone.model)"
   ]
  },
  {
   "cell_type": "code",
   "execution_count": 9,
   "metadata": {},
   "outputs": [
    {
     "output_type": "stream",
     "name": "stdout",
     "text": [
      "True\nTrue\n"
     ]
    }
   ],
   "source": [
    "print(isinstance(my_phone, Phone))\n",
    "print(type(my_phone) == Phone)"
   ]
  },
  {
   "cell_type": "code",
   "execution_count": 10,
   "metadata": {},
   "outputs": [
    {
     "output_type": "stream",
     "name": "stdout",
     "text": [
      "<class '__main__.Phone'>\n<__main__.Phone object at 0x000001E4CD623100>\n"
     ]
    }
   ],
   "source": [
    "print(type(my_phone))\n",
    "print(my_phone)"
   ]
  },
  {
   "cell_type": "markdown",
   "metadata": {},
   "source": [
    "### 실습2: MyList 만들기\n",
    "\n",
    "배운 것을 활용해 나만의 리스트 객체를 만들어보세요. 클래스의 정보는 다음과 같습니다.\n",
    "\n",
    "1. 이름: `MyList`\n",
    "2. 클래스 변수: `data`, 비어 있는 리스트\n",
    "3. 메서드:\n",
    "    1. append(): 값을 받아 data에 추가합니다. 리턴은 없습니다.\n",
    "    2. pop(): 마지막에 있는 값을 삭제하고, 해당 값을 리턴합니다.\n",
    "    3. reverse(): 리스트 내부 요소의 순서를 뒤집습니다. 리턴은 없습니다.\n",
    "    4. count(x): x의 개수를 리턴합니다.\n",
    "    5. clear(): 값을 모두 삭제합니다. 리턴은 없습니다.\n",
    "    6. __repr__: 리스트에 담긴 요소 전체를 반환합니다.\n",
    "```"
   ]
  },
  {
   "cell_type": "code",
   "execution_count": 11,
   "metadata": {},
   "outputs": [],
   "source": [
    "class MyList:\n",
    "    data = []\n",
    "\n",
    "    def append(self, el):\n",
    "        self.data += [el]\n",
    "\n",
    "    def pop(self):\n",
    "        pop_data = self.data[-1]\n",
    "        self.data = self.data[:-1]\n",
    "        return pop_data\n",
    "\n",
    "    def reverse(self):\n",
    "        self.data = self.data[::-1]\n",
    "\n",
    "    def count(self, el):\n",
    "        return self.data.count(el)\n",
    "\n",
    "    def clear(self):\n",
    "        self.data = []\n",
    "\n",
    "    def __repr__(self):\n",
    "        return f'There are {self.data} in list.'"
   ]
  },
  {
   "cell_type": "code",
   "execution_count": 12,
   "metadata": {},
   "outputs": [
    {
     "output_type": "stream",
     "name": "stdout",
     "text": [
      "[]\n[1]\n[1, '1', True]\n"
     ]
    }
   ],
   "source": [
    "arr = MyList()\n",
    "print(arr.data)\n",
    "\n",
    "arr.append(1)\n",
    "print(arr.data)\n",
    "\n",
    "arr.append('1')\n",
    "arr.append(True)\n",
    "print(arr.data)"
   ]
  },
  {
   "cell_type": "markdown",
   "metadata": {},
   "source": [
    "### 생성자와 소멸자\n",
    "\n",
    "생성자는 인스턴스 객체가 생성될 때 호출되는 함수, 소멸자는 객체가 소멸될 때 호출되는 함수입니다. 각각 `__init__`, `__del__`로 정의합니다."
   ]
  },
  {
   "cell_type": "code",
   "execution_count": 13,
   "metadata": {},
   "outputs": [],
   "source": [
    "class Person:\n",
    "    def __init__(self, name):\n",
    "        self.name = name\n",
    "        print(f'{self.name} is born!')\n",
    "    \n",
    "    def __del__(self):\n",
    "        print(f'{self.name} is dead.')"
   ]
  },
  {
   "cell_type": "code",
   "execution_count": 14,
   "metadata": {},
   "outputs": [
    {
     "output_type": "stream",
     "name": "stdout",
     "text": [
      "change is born!\n"
     ]
    }
   ],
   "source": [
    "preson = Person('change')"
   ]
  },
  {
   "cell_type": "code",
   "execution_count": 15,
   "metadata": {},
   "outputs": [
    {
     "output_type": "stream",
     "name": "stdout",
     "text": [
      "change is dead.\n"
     ]
    }
   ],
   "source": [
    "del preson"
   ]
  },
  {
   "cell_type": "markdown",
   "metadata": {},
   "source": [
    "### 실습3: Stack 구현하기\n",
    "\n",
    "앞서 작성한 Mylist는 완벽하지 않습니다. 따라서 제대로 된 `Stack` 클래스를 구현해봅시다. [Stack](https://ko.wikipedia.org/wiki/%EC%8A%A4%ED%83%9D)은 LIFO(Last in First Out) 자료구조를 말합니다.\n",
    "\n",
    "1. `empty()`: 스택이 비었다면 True, 그렇지 않다면 False를 반환합니다.\n",
    "2. `top()`: 스택에 데이터가 있다면 가장 마지막 데이터를, 비었다면 None을 반환합니다.\n",
    "3. `pop()`: 스택에 데이터가 있다면 가장 마지막 데이터를 넘겨주고, 그를 스택에서 삭제하고 비었다면 None을 반환합니다.\n",
    "4. `push()`: 스택의 가장 마지막 데이터 뒤에 값을 추가한다."
   ]
  },
  {
   "cell_type": "code",
   "execution_count": 16,
   "metadata": {},
   "outputs": [],
   "source": [
    "class Stack:\n",
    "    def __init__(self):\n",
    "        self.data = []\n",
    "\n",
    "    def empty(self):\n",
    "        return len(self.data) == 0\n",
    "\n",
    "    def top(self):\n",
    "        return self.data[-1] if self.data else None\n",
    "\n",
    "    def pop(self):\n",
    "        if self.data:\n",
    "            pop_data = self.data[-1]\n",
    "            self.data = self.data[:-1]\n",
    "            return pop_data\n",
    "        else:\n",
    "            return None\n",
    "\n",
    "    def push(self, d):\n",
    "        self.data += [d]"
   ]
  },
  {
   "cell_type": "markdown",
   "metadata": {},
   "source": [
    "### 실습4: 포켓몬 구현하기\n",
    "\n",
    "피카츄를 클래스로 구현해 봅시다. 게임을 만든다고 가정하고 아래와 같이 구현해 보고 본인이 원하는 대로 수정해보세요.\n",
    "\n",
    "1. 속성\n",
    "    - `name`: 이름\n",
    "    - `level`: 레벨, 레벨은 시작할 때 모두 5 입니다.\n",
    "    - `hp`: 체력, 체력은 `level * 20`입니다.\n",
    "    - `exp`: 경험치, 상대를 쓰러뜨리면 `상대 level * 15`를 획득하고 경험치가 `level * 100`이 되면 레벨을 하나 올리고 0으로 돌아갑니다.\n",
    "\n",
    "2. 메서드\n",
    "    - `bark()`: `'Pikachu!'`를 출력합니다.\n",
    "    - `body_attack()`: 몸통박치기, 상대방의 hp를 `내 level * 5`만큼 차감합니다.\n",
    "    - `thousond_volt()`: 십만볼트, 상대방의 hp를 `내 level * 10`만큼 차감합니다."
   ]
  },
  {
   "cell_type": "code",
   "execution_count": 17,
   "metadata": {},
   "outputs": [],
   "source": [
    "class Pikachu:\n",
    "    def __init__(self, name='야생의 피카츄'):\n",
    "        self.name = name\n",
    "        self.level = 5\n",
    "        self.hp = self.level * 20\n",
    "        self.exp = 0        \n",
    "        print(f'나와라! {self.name}!\\n')\n",
    "\n",
    "    def check_hp(self):\n",
    "        if self.hp <= 0:\n",
    "            self.__del__()\n",
    "\n",
    "    def check_exp(self):\n",
    "        if self.exp >= 100:\n",
    "            self.level += 1\n",
    "            self.exp -= 100\n",
    "            print(f'{self.name}의 레벨이 1올랐다! 현재 레벨은 {self.level}입니다!\\n')\n",
    "    \n",
    "    def bark(self):\n",
    "        print('Pikachu!')\n",
    "\n",
    "    def body_attack(self, enemy):\n",
    "        if type(enemy) == Pikachu:\n",
    "            if enemy.hp > 0:\n",
    "                enemy.hp -= self.level * 5\n",
    "                print(f'{self.name}의 몸통박치기! {enemy.name}의 hp를 {self.level * 5}만큼 깎았다!\\n')\n",
    "                if enemy.hp <= 0:\n",
    "                    self.exp += enemy.level * 15\n",
    "                    print('이겼다!\\n')\n",
    "                    self.check_exp()\n",
    "                    enemy.check_hp()\n",
    "            else:\n",
    "                print('상대할 피카츄가 없습니다.\\n')\n",
    "        else:\n",
    "            print('상대 피카츄의 이름을 넣어주세요.\\n')\n",
    "    \n",
    "    \n",
    "    def thousond_volt(self, enemy):\n",
    "        if type(enemy) == Pikachu:\n",
    "            if enemy.hp > 0:\n",
    "                enemy.hp -= self.level * 10\n",
    "                print(f'{self.name}의 십만볼트! {enemy.name}의 hp를 {self.level * 10}만큼 깎았다!\\n')\n",
    "                if enemy.hp <= 0:\n",
    "                    self.exp += enemy.level * 15\n",
    "                    print('이겼다!\\n')\n",
    "                    self.check_exp()\n",
    "                    enemy.check_hp()\n",
    "            else:                \n",
    "                print('상대할 피카츄가 없습니다.\\n')\n",
    "        else:            \n",
    "            print('상대 피카츄의 이름을 넣어주세요.\\n')\n",
    "\n",
    "    def heal(self, num):\n",
    "        if self.hp < 100:\n",
    "            if type(num) == int():\n",
    "                hp = min(100, hp + num)\n",
    "                print(f'{self.name}의 체력을 {num}만큼 회복했습니다.\\n')\n",
    "            else:                \n",
    "                print('체력을 회복할 수단이 없습니다.\\n')\n",
    "        else:            \n",
    "            print('체력이 이미 가득찼습니다.\\n')\n",
    "\n",
    "    def __del__(self):\n",
    "        print(f'{self.name}은(는) 눈 앞이 깜깜해졌다!\\n')"
   ]
  },
  {
   "cell_type": "code",
   "execution_count": 18,
   "metadata": {
    "scrolled": true
   },
   "outputs": [
    {
     "output_type": "stream",
     "name": "stdout",
     "text": [
      "나와라! samsung!\n\n나와라! sk!\n\nsamsung의 몸통박치기! sk의 hp를 25만큼 깎았다!\n\nsamsung의 몸통박치기! sk의 hp를 25만큼 깎았다!\n\nsamsung의 몸통박치기! sk의 hp를 25만큼 깎았다!\n\nsamsung의 몸통박치기! sk의 hp를 25만큼 깎았다!\n\n이겼다!\n\nsk은(는) 눈 앞이 깜깜해졌다!\n\n체력이 이미 가득찼습니다.\n\n"
     ]
    }
   ],
   "source": [
    "a = Pikachu('samsung')\n",
    "b = Pikachu('sk')\n",
    "\n",
    "a.body_attack(b)\n",
    "a.body_attack(b)\n",
    "a.body_attack(b)\n",
    "a.body_attack(b)\n",
    "\n",
    "a.heal(50)"
   ]
  },
  {
   "cell_type": "markdown",
   "metadata": {},
   "source": [
    "### 실습5: 원\n",
    "\n",
    "다음 조건에 맞는 Circle 클래스를 만들어 보세요.\n",
    "\n",
    "1. 클래스 속성\n",
    "    - `pi`: 3.14\n",
    "2. 인스턴스 속성\n",
    "    - `r`: 원의 반지름, 반드시 입력 받습니다.\n",
    "    - `x`: x 좌표, 기본값은 0입니다.\n",
    "    - `y`: y 좌표, 기본값은 0입니다.\n",
    "3. 인스턴스 메서드\n",
    "    - `area()`: 원의 넓이를 반환합니다.\n",
    "    - `circumference()`: 원의 둘레를 반환합니다.\n",
    "    - `center()`: 원의 중심 좌표를 튜플로 반환합니다.\n",
    "    - `move(x, y)`: 원의 중심 좌표를 입력받은 값으로 변경합니다."
   ]
  },
  {
   "cell_type": "code",
   "execution_count": 19,
   "metadata": {},
   "outputs": [],
   "source": [
    "class Circle:\r\n",
    "    pi = 3.14\r\n",
    "\r\n",
    "    def __init__(self, r, x=0, y=0):\r\n",
    "        self.r = r\r\n",
    "        self.x = x\r\n",
    "        self.y = y\r\n",
    "\r\n",
    "    def area(self):\r\n",
    "        return self.pi * self.r ** 2\r\n",
    "\r\n",
    "    def circumference(self):\r\n",
    "        return 2 * self.pi * self.r\r\n",
    "\r\n",
    "    def center(self):\r\n",
    "        return self.x, self.y\r\n",
    "\r\n",
    "    def move(self, x, y):\r\n",
    "        self.x = x\r\n",
    "        self.y = y"
   ]
  },
  {
   "cell_type": "code",
   "execution_count": 20,
   "metadata": {},
   "outputs": [
    {
     "output_type": "stream",
     "name": "stdout",
     "text": [
      "78.5\n31.400000000000002\n(0, 0)\n"
     ]
    }
   ],
   "source": [
    "circle = Circle(5, 3, 4)\n",
    "\n",
    "print(circle.area())\n",
    "print(circle.circumference())\n",
    "\n",
    "circle.move(0, 0)\n",
    "\n",
    "print(circle.center())"
   ]
  }
 ],
 "metadata": {
  "kernelspec": {
   "name": "python3",
   "display_name": "Python 3.9.6 64-bit"
  },
  "language_info": {
   "codemirror_mode": {
    "name": "ipython",
    "version": 3
   },
   "file_extension": ".py",
   "mimetype": "text/x-python",
   "name": "python",
   "nbconvert_exporter": "python",
   "pygments_lexer": "ipython3",
   "version": "3.9.6"
  },
  "latex_envs": {
   "LaTeX_envs_menu_present": true,
   "autoclose": false,
   "autocomplete": true,
   "bibliofile": "biblio.bib",
   "cite_by": "apalike",
   "current_citInitial": 1,
   "eqLabelWithNumbers": true,
   "eqNumInitial": 1,
   "hotkeys": {
    "equation": "Ctrl-E",
    "itemize": "Ctrl-I"
   },
   "labels_anchors": false,
   "latex_user_defs": false,
   "report_style_numbering": false,
   "user_envs_cfg": false
  },
  "toc": {
   "base_numbering": 1,
   "nav_menu": {},
   "number_sections": true,
   "sideBar": true,
   "skip_h1_title": false,
   "title_cell": "Table of Contents",
   "title_sidebar": "Contents",
   "toc_cell": false,
   "toc_position": {
    "height": "calc(100% - 180px)",
    "left": "10px",
    "top": "150px",
    "width": "206.8px"
   },
   "toc_section_display": true,
   "toc_window_display": false
  },
  "interpreter": {
   "hash": "f35fc79419f428a04d94f3b50c385284aa458c4e0d0bb24e14f83429163e39ac"
  }
 },
 "nbformat": 4,
 "nbformat_minor": 2
}