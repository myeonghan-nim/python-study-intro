{
 "cells": [
  {
   "cell_type": "markdown",
   "metadata": {},
   "source": [
    "# 제어문\n",
    "\n",
    "제어문(Control of Flow)은 크게 반복문과 조건문으로 나눌 수 있습니다."
   ]
  },
  {
   "cell_type": "markdown",
   "metadata": {},
   "source": [
    "## 조건문\n",
    "\n",
    "조건문은 반드시 참과 거짓을 판단할 수 있는 **조건식**과 함께 사용해야 합니다. 이 때, 조건식이 참이면 if 블록을, 거짓이면 else 블록을 수행합니다."
   ]
  },
  {
   "cell_type": "markdown",
   "metadata": {},
   "source": [
    "### 실습1: 크리스마스\n",
    "\n",
    "사용자가 입력한 날짜가 크리스마스인지 확인해보세요."
   ]
  },
  {
   "cell_type": "code",
   "execution_count": 1,
   "metadata": {},
   "outputs": [
    {
     "output_type": "stream",
     "name": "stdout",
     "text": [
      "It is christmas.\n"
     ]
    }
   ],
   "source": [
    "if input('Enter date. ex)12/24: ') == '12/25':\n",
    "    print('It is christmas.')\n",
    "else:\n",
    "    print('It is not christmas.')"
   ]
  },
  {
   "cell_type": "markdown",
   "metadata": {},
   "source": [
    "## 복수 조건문\n",
    "\n",
    "2개 이상 조건문을 사용할 경우 `elif`를 사용합니다."
   ]
  },
  {
   "cell_type": "markdown",
   "metadata": {},
   "source": [
    "### 실습2: 평점 확인\n",
    "\n",
    "score에 따른 평점을 출력하세요.\n",
    "\n",
    "| 점수 | 등급 |\n",
    "| --- | --- |\n",
    "| 90 이상 | A |\n",
    "| 80 이상 | B |\n",
    "| 70 이상 | C |\n",
    "| 60 이상 | D |\n",
    "| 60 미만 | F |"
   ]
  },
  {
   "cell_type": "code",
   "execution_count": 2,
   "metadata": {},
   "outputs": [
    {
     "output_type": "stream",
     "name": "stdout",
     "text": [
      "A\n"
     ]
    }
   ],
   "source": [
    "score = int(input())\n",
    "\n",
    "if score >= 90:\n",
    "    print('A')\n",
    "elif score >= 80:\n",
    "    print('B')\n",
    "elif score >= 70:\n",
    "    print('C')\n",
    "elif score >= 60:\n",
    "    print('D')\n",
    "else:\n",
    "    print('F')"
   ]
  },
  {
   "cell_type": "markdown",
   "metadata": {},
   "source": [
    "## 조건 표현식(Conditional Expression)\n",
    "\n",
    "조건식을 한 줄로 모아 표현식을 작성할 수 있습니다. 삼항연산자라고도 불립니다."
   ]
  },
  {
   "cell_type": "code",
   "execution_count": 3,
   "metadata": {},
   "outputs": [
    {
     "output_type": "stream",
     "name": "stdout",
     "text": [
      "Positive.\n"
     ]
    }
   ],
   "source": [
    "num = int(input())\n",
    "print('Positive.') if num > 0 else print('Negative.')"
   ]
  },
  {
   "cell_type": "markdown",
   "metadata": {},
   "source": [
    "## 반복문"
   ]
  },
  {
   "source": [
    "### while\n",
    "\n",
    "`while`은 조건식이 참인 경우 계속해서 코드를 실행합니다. 반복을 끝내려면 **종료 조건을 반드시 설정**해야 합니다."
   ],
   "cell_type": "markdown",
   "metadata": {}
  },
  {
   "cell_type": "code",
   "execution_count": 4,
   "metadata": {},
   "outputs": [
    {
     "output_type": "stream",
     "name": "stdout",
     "text": [
      "0\n1\n2\n3\n4\n"
     ]
    }
   ],
   "source": [
    "a = 0\n",
    "while a < 5:\n",
    "    print(a)\n",
    "    a += 1"
   ]
  },
  {
   "cell_type": "markdown",
   "metadata": {},
   "source": [
    "### 실습3: 항상 안녕하십시오\n",
    "\n",
    "사용자가 **안녕**이라고 입력할 때까지 인사하는 코드를 작성해보세요."
   ]
  },
  {
   "cell_type": "code",
   "execution_count": 5,
   "metadata": {},
   "outputs": [
    {
     "output_type": "stream",
     "name": "stdout",
     "text": [
      "Hi.\n"
     ]
    }
   ],
   "source": [
    "word = ''\n",
    "while word != 'Hi':\n",
    "    print('Hi.')\n",
    "    word = input('Say \"Hi\" to me.: ')"
   ]
  },
  {
   "cell_type": "markdown",
   "metadata": {},
   "source": [
    "### for\n",
    "\n",
    "`for`는 정해진 범위 내의 코드를 반복합니다."
   ]
  },
  {
   "cell_type": "code",
   "execution_count": 6,
   "metadata": {},
   "outputs": [
    {
     "output_type": "stream",
     "name": "stdout",
     "text": [
      "0\n1\n2\n3\n4\n"
     ]
    }
   ],
   "source": [
    "for i in range(5):\n",
    "    print(i)"
   ]
  },
  {
   "cell_type": "markdown",
   "metadata": {},
   "source": [
    "### 실습4: 홀수\n",
    "\n",
    "반복문과 조건문을 활용해 1 ~ 30 중 홀수만 담긴 리스트를 만드세요."
   ]
  },
  {
   "cell_type": "code",
   "execution_count": 7,
   "metadata": {},
   "outputs": [
    {
     "output_type": "stream",
     "name": "stdout",
     "text": [
      "[1, 3, 5, 7, 9, 11, 13, 15, 17, 19, 21, 23, 25, 27, 29]\n"
     ]
    }
   ],
   "source": [
    "arr = []\n",
    "for num in range(1, 31):\n",
    "    if num % 2:\n",
    "        arr.append(num)\n",
    "print(arr)"
   ]
  },
  {
   "cell_type": "markdown",
   "metadata": {},
   "source": [
    "## index"
   ]
  },
  {
   "source": [
    "### List\n",
    "\n",
    "`enumerate()`를 활용하면 iterable의 값과 인덱스를 모두 활용할 수 있습니다."
   ],
   "cell_type": "markdown",
   "metadata": {}
  },
  {
   "cell_type": "code",
   "execution_count": 8,
   "metadata": {},
   "outputs": [
    {
     "output_type": "execute_result",
     "data": {
      "text/plain": [
       "[(1, 'Kim'), (2, 'Lee'), (3, 'Park'), (4, 'Jeong'), (5, 'Choi')]"
      ]
     },
     "metadata": {},
     "execution_count": 8
    }
   ],
   "source": [
    "names = ['Kim', 'Lee', 'Park', 'Jeong', 'Choi']\n",
    "list(enumerate(names, start=1))"
   ]
  },
  {
   "cell_type": "markdown",
   "metadata": {},
   "source": [
    "### Dictionary\n",
    "\n",
    "Dictionary는 기본적으로 key만 접근할 수 있습니다."
   ]
  },
  {
   "cell_type": "code",
   "execution_count": 9,
   "metadata": {},
   "outputs": [
    {
     "output_type": "stream",
     "name": "stdout",
     "text": [
      "apple\nbanana\nmelon\napple red\nbanana yellow\nmelon green\n"
     ]
    }
   ],
   "source": [
    "fruits = {'apple': 'red', 'banana': 'yellow', 'melon': 'green'}\n",
    "for fruit in fruits:\n",
    "    print(fruit)\n",
    "\n",
    "for fruit in fruits:\n",
    "    print(fruit, fruits[fruit])"
   ]
  },
  {
   "cell_type": "markdown",
   "metadata": {},
   "source": [
    "### 실습5: 혈액형\n",
    "\n",
    "혈액형 결과가 들어있는 dictionary 정보를 출력해보세요."
   ]
  },
  {
   "cell_type": "code",
   "execution_count": 10,
   "metadata": {},
   "outputs": [
    {
     "output_type": "stream",
     "name": "stdout",
     "text": [
      "The blood types are as follows => A B AB O \nTotal number of person is 10.\nType A is 4.\nType B is 2.\nType AB is 3.\nType O is 1.\n"
     ]
    }
   ],
   "source": [
    "blood_types = {'A': 4, 'B': 2, 'AB': 3, 'O': 1}\n",
    "\n",
    "info = 'The blood types are as follows => '\n",
    "for blood in blood_types:\n",
    "    info += blood + ' '\n",
    "print(info)\n",
    "\n",
    "total = 0\n",
    "for num in blood_types.values():\n",
    "    total += num\n",
    "print(f'Total number of person is {total}.')\n",
    "\n",
    "for key, val in blood_types.items():\n",
    "    print(f'Type {key} is {val}.')"
   ]
  },
  {
   "cell_type": "markdown",
   "metadata": {},
   "source": [
    "## 기타 제어문"
   ]
  },
  {
   "source": [
    "1. `break`: 반복문을 종료합니다."
   ],
   "cell_type": "markdown",
   "metadata": {}
  },
  {
   "cell_type": "code",
   "execution_count": 11,
   "metadata": {},
   "outputs": [
    {
     "output_type": "stream",
     "name": "stdout",
     "text": [
      "0\n1\nOnly 0 or 1.\n"
     ]
    }
   ],
   "source": [
    "for i in range(10):\n",
    "    if i > 1:\n",
    "        print('Only 0 or 1.')\n",
    "        break\n",
    "    print(i)"
   ]
  },
  {
   "cell_type": "markdown",
   "metadata": {},
   "source": [
    "2. `continue`: 이후 코드를 수행하지 않고 처음으로 돌아가 다음 요소의 연산을 수행합니다."
   ]
  },
  {
   "cell_type": "code",
   "execution_count": 12,
   "metadata": {},
   "outputs": [
    {
     "output_type": "stream",
     "name": "stdout",
     "text": [
      "0\n2\n4\n6\n8\n"
     ]
    }
   ],
   "source": [
    "for i in range(10):\n",
    "    if i % 2:\n",
    "        continue\n",
    "    print(i)"
   ]
  },
  {
   "cell_type": "markdown",
   "metadata": {},
   "source": [
    "3. `else`: 반복문을 모두 실행한 후에 실행됩니다. 단, `break`로 중간에 종료되지 않아야 합니다."
   ]
  },
  {
   "cell_type": "code",
   "execution_count": 13,
   "metadata": {},
   "outputs": [
    {
     "output_type": "stream",
     "name": "stdout",
     "text": [
      "0\n1\n2\nEND\n"
     ]
    }
   ],
   "source": [
    "for i in range(3):\n",
    "    print(i)\n",
    "else:\n",
    "    print('END')"
   ]
  }
 ],
 "metadata": {
  "kernelspec": {
   "name": "python3",
   "display_name": "Python 3.9.6 64-bit"
  },
  "language_info": {
   "codemirror_mode": {
    "name": "ipython",
    "version": 3
   },
   "file_extension": ".py",
   "mimetype": "text/x-python",
   "name": "python",
   "nbconvert_exporter": "python",
   "pygments_lexer": "ipython3",
   "version": "3.9.6"
  },
  "interpreter": {
   "hash": "f35fc79419f428a04d94f3b50c385284aa458c4e0d0bb24e14f83429163e39ac"
  }
 },
 "nbformat": 4,
 "nbformat_minor": 2
}