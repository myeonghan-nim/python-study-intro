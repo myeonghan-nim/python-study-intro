{
 "cells": [
  {
   "cell_type": "markdown",
   "metadata": {},
   "source": [
    "# 모듈\n",
    "\n",
    "모듈은 특정한 정의된 변수, 함수, 클래스 등을 가지고 있는 파일을 의미합니다."
   ]
  },
  {
   "cell_type": "markdown",
   "metadata": {},
   "source": [
    "## import\n",
    "\n",
    "모듈을 활용하기 위해서 반드시 `import`를 사용해 모듈을 불러와야 합니다."
   ]
  },
  {
   "cell_type": "code",
   "execution_count": 1,
   "metadata": {},
   "outputs": [
    {
     "output_type": "stream",
     "name": "stdout",
     "text": [
      "['__builtins__', '__cached__', '__doc__', '__file__', '__loader__', '__name__', '__package__', '__spec__', 'loop', 'recursive']\n8\n89\n"
     ]
    }
   ],
   "source": [
    "import fibo\n",
    "\n",
    "print(dir(fibo))\n",
    "\n",
    "print(fibo.recursive(5))\n",
    "print(fibo.loop(10))"
   ]
  },
  {
   "cell_type": "markdown",
   "metadata": {},
   "source": [
    "## 패키지\n",
    "\n",
    "패키지는 Python의 모듈 네임 스페이스를 구조화하는 방법입니다. 예를 들어, `myPackage.math`는 `myPackage` 패키지에 있는 `math` 모듈을 가리킵니다.\n",
    "\n",
    "단, Python이 임의의 directory를 패키지로 인식하려면 `__init__.py`가 필요합니다. 이는 흔한 이름을 가진 디렉터리가 의도치 않게 모듈 검색 경로 뒤에 등장하는 올바른 모듈을 가리는 일을 방지하기 위함입니다."
   ]
  },
  {
   "cell_type": "code",
   "execution_count": 2,
   "metadata": {},
   "outputs": [
    {
     "output_type": "stream",
     "name": "stdout",
     "text": [
      "['__builtins__', '__cached__', '__doc__', '__file__', '__loader__', '__name__', '__package__', '__path__', '__spec__']\n"
     ]
    }
   ],
   "source": [
    "import myPackage\n",
    "\n",
    "print(dir(myPackage))"
   ]
  },
  {
   "cell_type": "code",
   "execution_count": 3,
   "metadata": {},
   "outputs": [
    {
     "output_type": "stream",
     "name": "stdout",
     "text": [
      "['__builtins__', '__cached__', '__doc__', '__file__', '__loader__', '__name__', '__package__', '__path__', '__spec__']\n"
     ]
    }
   ],
   "source": [
    "from myPackage import web\n",
    "\n",
    "print(dir(web))"
   ]
  },
  {
   "cell_type": "code",
   "execution_count": 4,
   "metadata": {},
   "outputs": [
    {
     "output_type": "stream",
     "name": "stdout",
     "text": [
      "3.14\n3 is bigger than 2.\nNone\n"
     ]
    }
   ],
   "source": [
    "from myPackage.math.formula import *\n",
    "\n",
    "print(PI)\n",
    "print(custom_max(2, 3))"
   ]
  },
  {
   "cell_type": "code",
   "execution_count": 5,
   "metadata": {},
   "outputs": [
    {
     "output_type": "stream",
     "name": "stdout",
     "text": [
      "Input essential keywords.\n"
     ]
    }
   ],
   "source": [
    "from myPackage.web.url import get_movie as movie\n",
    "\n",
    "print(movie())"
   ]
  },
  {
   "cell_type": "markdown",
   "metadata": {},
   "source": [
    "## Python 기본 모듈\n",
    "\n",
    "Python은 기본 모듈을 제공합니다. [표준 라이브러 문서](https://docs.python.org/ko/3/library/index.html)에서 제공되는 모듈을 확인할 수 있습니다."
   ]
  },
  {
   "cell_type": "code",
   "execution_count": 6,
   "metadata": {},
   "outputs": [
    {
     "output_type": "stream",
     "name": "stdout",
     "text": [
      "[41, 18, 19, 21, 8, 2]\n"
     ]
    }
   ],
   "source": [
    "from random import sample\n",
    "\n",
    "print(sample(range(1, 46), 6))"
   ]
  },
  {
   "cell_type": "code",
   "execution_count": 7,
   "metadata": {},
   "outputs": [
    {
     "output_type": "stream",
     "name": "stdout",
     "text": [
      "3.141592653589793\n2.718281828459045\n3\n2\n2\n-3\n-2\n1024.0\n2.0\n22026.465794806718\n1.144222799920162\n0.0\n1.0\n-1.995200412208242\n"
     ]
    }
   ],
   "source": [
    "import math\n",
    "\n",
    "print(math.pi)\n",
    "print(math.e)\n",
    "\n",
    "print(math.ceil(2.1))\n",
    "print(math.floor(2.1))\n",
    "print(math.trunc(2.1))\n",
    "print(math.floor(-2.1))\n",
    "print(math.trunc(-2.1))\n",
    "\n",
    "print(math.pow(2, 10))\n",
    "print(math.sqrt(4))\n",
    "print(math.exp(10))\n",
    "print(math.log(3.14))\n",
    "\n",
    "print(math.sin(0))\n",
    "print(math.cos(0))\n",
    "print(math.tan(90))"
   ]
  },
  {
   "cell_type": "code",
   "execution_count": 8,
   "metadata": {},
   "outputs": [
    {
     "output_type": "stream",
     "name": "stdout",
     "text": [
      "0.7893736874827298\n4\n0.13436424411240122\nNone\n"
     ]
    }
   ],
   "source": [
    "import random\n",
    "\n",
    "print(random.random())\n",
    "print(random.randint(1, 5))\n",
    "\n",
    "random.seed(1)\n",
    "print(random.random())\n",
    "\n",
    "print(random.shuffle([1, 3, 5, 7, 9]))"
   ]
  },
  {
   "cell_type": "code",
   "execution_count": 9,
   "metadata": {
    "scrolled": true
   },
   "outputs": [
    {
     "output_type": "stream",
     "name": "stdout",
     "text": [
      "2021-07-22 22:23:46.324423\n2021-07-22 22:23:46.324424\n2021-07-22 13:23:46.324423\n2021-07-22\n2021\n23\n3\n2021-12-25 00:00:00\n"
     ]
    }
   ],
   "source": [
    "from datetime import datetime\n",
    "\n",
    "today = datetime.now()\n",
    "\n",
    "print(today)\n",
    "print(datetime.today())\n",
    "print(datetime.utcnow())\n",
    "\n",
    "print(today.strftime('%Y-%m-%d'))\n",
    "\n",
    "print(today.year)\n",
    "print(today.minute)\n",
    "\n",
    "print(today.weekday())\n",
    "\n",
    "print(datetime(2021, 12, 25, 0, 0, 0, 0))"
   ]
  },
  {
   "cell_type": "code",
   "execution_count": 10,
   "metadata": {},
   "outputs": [
    {
     "output_type": "stream",
     "name": "stdout",
     "text": [
      "-3 days, 0:00:00\n2021-07-19 22:23:46.324423\n2021-10-30 22:23:46.324423\n155 days, 1:36:13.675577\n13397773.675577\n"
     ]
    }
   ],
   "source": [
    "from datetime import timedelta\n",
    "\n",
    "passed = timedelta(days=-3)\n",
    "\n",
    "print(passed)\n",
    "\n",
    "print(today + passed)\n",
    "print(today + timedelta(days=100))\n",
    "\n",
    "diff = datetime(2021, 12, 25, 0, 0, 0, 0) - today\n",
    "\n",
    "print(diff)\n",
    "print(diff.total_seconds())"
   ]
  },
  {
   "cell_type": "code",
   "execution_count": 11,
   "metadata": {},
   "outputs": [],
   "source": [
    "def print_timedelta(seconds):\n",
    "    sign = 'before' if seconds < 0 else 'after'\n",
    "\n",
    "    seconds = abs(int(seconds))\n",
    "    days, seconds = divmod(seconds, 86400)\n",
    "    hours, seconds = divmod(seconds, 3600)\n",
    "    minutes, seconds = divmod(seconds, 60)\n",
    "\n",
    "    result = ''\n",
    "    if days > 0:\n",
    "        result += f'{days} days '\n",
    "    if hours > 0:\n",
    "        result += f'{hours} hours '\n",
    "    if minutes > 0:\n",
    "        result += f'{minutes} minutes '\n",
    "    result += f'{seconds} seconds {sign}.'\n",
    "\n",
    "    return result"
   ]
  },
  {
   "cell_type": "code",
   "execution_count": 12,
   "metadata": {},
   "outputs": [
    {
     "output_type": "stream",
     "name": "stdout",
     "text": [
      "155 days 1 hours 36 minutes 13 seconds after.\n"
     ]
    }
   ],
   "source": [
    "print(print_timedelta(diff.total_seconds()))"
   ]
  }
 ],
 "metadata": {
  "kernelspec": {
   "name": "python3",
   "display_name": "Python 3.9.6 64-bit"
  },
  "language_info": {
   "codemirror_mode": {
    "name": "ipython",
    "version": 3
   },
   "file_extension": ".py",
   "mimetype": "text/x-python",
   "name": "python",
   "nbconvert_exporter": "python",
   "pygments_lexer": "ipython3",
   "version": "3.9.6"
  },
  "latex_envs": {
   "LaTeX_envs_menu_present": true,
   "autoclose": false,
   "autocomplete": true,
   "bibliofile": "biblio.bib",
   "cite_by": "apalike",
   "current_citInitial": 1,
   "eqLabelWithNumbers": true,
   "eqNumInitial": 1,
   "hotkeys": {
    "equation": "Ctrl-E",
    "itemize": "Ctrl-I"
   },
   "labels_anchors": false,
   "latex_user_defs": false,
   "report_style_numbering": false,
   "user_envs_cfg": false
  },
  "toc": {
   "base_numbering": 1,
   "nav_menu": {},
   "number_sections": true,
   "sideBar": true,
   "skip_h1_title": false,
   "title_cell": "Table of Contents",
   "title_sidebar": "Contents",
   "toc_cell": false,
   "toc_position": {
    "height": "calc(100% - 180px)",
    "left": "10px",
    "top": "150px",
    "width": "165px"
   },
   "toc_section_display": true,
   "toc_window_display": false
  },
  "interpreter": {
   "hash": "f35fc79419f428a04d94f3b50c385284aa458c4e0d0bb24e14f83429163e39ac"
  }
 },
 "nbformat": 4,
 "nbformat_minor": 2
}