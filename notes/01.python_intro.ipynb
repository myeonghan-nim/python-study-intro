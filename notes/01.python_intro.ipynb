{
 "cells": [
  {
   "cell_type": "markdown",
   "metadata": {},
   "source": [
    "# Python"
   ]
  },
  {
   "source": [
    "## Introduction\n",
    "\n",
    "본 자료는 [Python Tutorial Document](https://docs.python.org/3.7/tutorial/index.html)를 참고했으며 Python 3.7 버전의 내용을 담고 있습니다. 그리고 코딩 스타일은 Python 스타일 가이드인 [PEP-8](https://www.python.org/dev/peps/pep-0008/)을 따랐습니다."
   ],
   "cell_type": "markdown",
   "metadata": {}
  },
  {
   "cell_type": "markdown",
   "metadata": {},
   "source": [
    "## 식별자\n",
    "\n",
    "변수, 함수, 모듈, 클래스 등을 식별할 때 사용하는 이름으로 다음 규칙을 가지고 있습니다.\n",
    "\n",
    "1. 영문 알파벳, \\_, 숫자만 사용할 수 있습니다.\n",
    "2. 첫 글자에 숫자를 쓸 수 없습니다.\n",
    "3. 대소문자를 구별합니다.\n",
    "4. 예약어를 사용할 수 없습니다."
   ]
  },
  {
   "cell_type": "code",
   "execution_count": 1,
   "metadata": {},
   "outputs": [
    {
     "output_type": "stream",
     "name": "stdout",
     "text": [
      "['False', 'None', 'True', '__peg_parser__', 'and', 'as', 'assert', 'async', 'await', 'break', 'class', 'continue', 'def', 'del', 'elif', 'else', 'except', 'finally', 'for', 'from', 'global', 'if', 'import', 'in', 'is', 'lambda', 'nonlocal', 'not', 'or', 'pass', 'raise', 'return', 'try', 'while', 'with', 'yield']\n"
     ]
    }
   ],
   "source": [
    "import keyword\n",
    "\n",
    "print(keyword.kwlist)"
   ]
  },
  {
   "cell_type": "markdown",
   "metadata": {},
   "source": [
    "## 문법"
   ]
  },
  {
   "source": [
    "### 인코딩\n",
    "\n",
    "Python은 기본 인코딩으로 **UTF-8**가 설정되어 있습니다. 만약, 인코딩을 변경하려면 코드 상단에 `-*- coding: <encoding-name> -*-`를 작성합니다."
   ],
   "cell_type": "markdown",
   "metadata": {}
  },
  {
   "cell_type": "markdown",
   "metadata": {},
   "source": [
    "### 주석\n",
    "\n",
    "주석은 `#`을 사용해 작성합니다(단축키: `Ctrl+/`). docstring은 `'''`을 사용합니다."
   ]
  },
  {
   "cell_type": "code",
   "execution_count": 2,
   "metadata": {},
   "outputs": [
    {
     "output_type": "stream",
     "name": "stdout",
     "text": [
      "\n    This is comment.\n    \n"
     ]
    }
   ],
   "source": [
    "def comment():\n",
    "    # This is comment.\n",
    "    '''\n",
    "    This is comment.\n",
    "    '''\n",
    "    return\n",
    "\n",
    "\n",
    "print(comment.__doc__)"
   ]
  },
  {
   "cell_type": "markdown",
   "metadata": {},
   "source": [
    "### 코딩\n",
    "\n",
    "Python은 `;`을 사용하지 않습니다. 다만 한 줄로 표기할 떄는 `;`를 사용할 수 있습니다. 만일 코드를 line break 할 때는 `\\`를 사용합니다."
   ]
  },
  {
   "cell_type": "code",
   "execution_count": 3,
   "metadata": {},
   "outputs": [
    {
     "output_type": "stream",
     "name": "stdout",
     "text": [
      "Hello.\nHi.\nHello.\nHi.\n    Hello.\n[1, 2, 3]\n"
     ]
    }
   ],
   "source": [
    "print('Hello.')\n",
    "print('Hi.')\n",
    "\n",
    "print('Hello.');print('Hi.')\n",
    "\n",
    "print('\\\n",
    "    Hello.')\n",
    "\n",
    "print([\n",
    "    1, 2, 3\n",
    "])"
   ]
  },
  {
   "cell_type": "markdown",
   "metadata": {},
   "source": [
    "## 변수와 자료형\n",
    "\n",
    "변수는 `=`로 할당(assignment)합니다. 자료형을 확인하려면 `type()`을, 메모리 주소를 확인하려면 `id()`를 사용합니다."
   ]
  },
  {
   "cell_type": "code",
   "execution_count": 4,
   "metadata": {},
   "outputs": [
    {
     "output_type": "stream",
     "name": "stdout",
     "text": [
      "change\n<class 'str'>\n2186827544496\n"
     ]
    }
   ],
   "source": [
    "name = 'change'\n",
    "\n",
    "print(name)\n",
    "print(type(name))\n",
    "print(id(name))"
   ]
  },
  {
   "cell_type": "markdown",
   "metadata": {},
   "source": [
    "서로 다른 변수에 동시에 같은 값 혹은 각각 다른 값을 할당할 수 있습니다. 이 때, 변수의 갯수와 값의 갯수는 일치해야 합니다."
   ]
  },
  {
   "cell_type": "code",
   "execution_count": 5,
   "metadata": {},
   "outputs": [
    {
     "output_type": "stream",
     "name": "stdout",
     "text": [
      "100 100\n1 2\n2 1\n"
     ]
    }
   ],
   "source": [
    "x = y = 100\n",
    "print(x, y)\n",
    "\n",
    "x, y = 1, 2\n",
    "print(x, y)\n",
    "\n",
    "x, y = y, x\n",
    "print(x, y)"
   ]
  },
  {
   "cell_type": "markdown",
   "metadata": {},
   "source": [
    "### 수치형(Numbers)\n",
    "\n",
    "1. `int`: 모든 정수로 8진수는 `0o`, 2진수는 `0b`, 16진수는 `0x`를 앞에 붙입니다."
   ]
  },
  {
   "cell_type": "code",
   "execution_count": 6,
   "metadata": {},
   "outputs": [
    {
     "output_type": "stream",
     "name": "stdout",
     "text": [
      "<class 'int'>\n<class 'int'>\n"
     ]
    }
   ],
   "source": [
    "print(type(1))\n",
    "print(type(2 ** 64))"
   ]
  },
  {
   "cell_type": "markdown",
   "metadata": {},
   "source": [
    "#### 오버플로우(overflow)\n",
    "\n",
    "데이터 타입 별로 사용할 수 있는 메모리 크기가 제한되어 있는데 이를 넘어가면 메모리를 초과하는 오류가 발생합니다. 다만, Python은 큰 변수를 표현할 때 메모리 크기를 동적으로 바꿉니다."
   ]
  },
  {
   "cell_type": "code",
   "execution_count": 7,
   "metadata": {},
   "outputs": [
    {
     "output_type": "stream",
     "name": "stdout",
     "text": [
      "9223372036854775807\n85070591730234615847396907784232501249\n"
     ]
    }
   ],
   "source": [
    "import sys\n",
    "\n",
    "max_int = sys.maxsize\n",
    "print(max_int)\n",
    "\n",
    "super_max = max_int * max_int\n",
    "print(super_max)"
   ]
  },
  {
   "cell_type": "markdown",
   "metadata": {},
   "source": [
    "2. `float`: 실수로 부동소수점을 사용하며 항상 같은 값이 아닙니다. 값을 비교할 때 주의가 필요합니다."
   ]
  },
  {
   "cell_type": "code",
   "execution_count": 8,
   "metadata": {},
   "outputs": [
    {
     "output_type": "stream",
     "name": "stdout",
     "text": [
      "<class 'float'>\n<class 'float'>\n5.33\n0.9500000000000002\nFalse\n"
     ]
    }
   ],
   "source": [
    "print(type(3.14))\n",
    "print(type(3e-2))\n",
    "\n",
    "print(3.14 + 2.19)\n",
    "print(3.14 - 2.19)\n",
    "\n",
    "print(5.1 - 3.14 == round(5.1 - 3.14, 2))"
   ]
  },
  {
   "cell_type": "code",
   "execution_count": 9,
   "metadata": {},
   "outputs": [
    {
     "output_type": "stream",
     "name": "stdout",
     "text": [
      "True\nTrue\nTrue\n"
     ]
    }
   ],
   "source": [
    "import sys, math\n",
    "\n",
    "print(abs(5.1 - 3.14) - round(5.1 - 3.14, 2) <= 1e-10)\n",
    "print(abs(5.1 - 3.14) - round(5.1 - 3.14, 2) <= sys.float_info.epsilon)\n",
    "print(math.isclose(5.1 - 3.14, round(5.1 - 3.14, 2)))"
   ]
  },
  {
   "cell_type": "markdown",
   "metadata": {},
   "source": [
    "3. `complex`: 복소수로 허수부를 `j`로 표현합니다. "
   ]
  },
  {
   "cell_type": "code",
   "execution_count": 10,
   "metadata": {},
   "outputs": [
    {
     "output_type": "stream",
     "name": "stdout",
     "text": [
      "<class 'complex'>\n"
     ]
    }
   ],
   "source": [
    "print(type(3 + 4j))"
   ]
  },
  {
   "cell_type": "markdown",
   "metadata": {},
   "source": [
    "### Boolean\n",
    "\n",
    "`True`와 `False`가 있고 비교와 논리 연산 등에 사용합니다."
   ]
  },
  {
   "cell_type": "code",
   "execution_count": 11,
   "metadata": {},
   "outputs": [
    {
     "output_type": "stream",
     "name": "stdout",
     "text": [
      "<class 'bool'>\n<class 'bool'>\nTrue\nFalse\nTrue\nFalse\nTrue\nFalse\n"
     ]
    }
   ],
   "source": [
    "print(type(True))\n",
    "print(type(False))\n",
    "\n",
    "print(bool(1))\n",
    "print(bool(0))\n",
    "\n",
    "print(bool([1, 2, 3]))\n",
    "print(bool([]))\n",
    "\n",
    "print(bool('a'))\n",
    "print(bool(''))"
   ]
  },
  {
   "cell_type": "markdown",
   "metadata": {},
   "source": [
    "### None\n",
    "\n",
    "값이 없음을 표현합니다."
   ]
  },
  {
   "cell_type": "code",
   "execution_count": 12,
   "metadata": {},
   "outputs": [
    {
     "output_type": "stream",
     "name": "stdout",
     "text": [
      "<class 'NoneType'>\n"
     ]
    }
   ],
   "source": [
    "print(type(None))"
   ]
  },
  {
   "cell_type": "markdown",
   "metadata": {},
   "source": [
    "### 문자형(String)\n",
    "\n",
    "Single quotes(`'`)나 Double quotes(`\"`)을 사용한 데이터 타입입니다."
   ]
  },
  {
   "cell_type": "code",
   "execution_count": 13,
   "metadata": {},
   "outputs": [
    {
     "output_type": "stream",
     "name": "stdout",
     "text": [
      "<class 'str'>\n",
      "<class 'str'>\n"
     ]
    }
   ],
   "source": [
    "print(type('a'))\n",
    "print(type(input()))"
   ]
  },
  {
   "cell_type": "markdown",
   "metadata": {},
   "source": [
    "#### 이스케이프 문자열\n",
    "\n",
    "특수문자를 표시하거나 특수한 조작을 하기 위해 사용하는 것으로 `\\`을 사용합니다.\n",
    "\n",
    "|예약문자|의미|\n",
    "|:--------:|:--------:|\n",
    "|\\n|줄 바꿈|\n",
    "|\\t|탭|\n",
    "|\\r|캐리지리턴|\n",
    "|\\0|Null|\n",
    "|`\\\\`|`\\`|\n",
    "|\\'|단일 인용부호(')|\n",
    "|\\\"|이중 인용부호(\")|"
   ]
  },
  {
   "cell_type": "code",
   "execution_count": 14,
   "metadata": {},
   "outputs": [
    {
     "output_type": "stream",
     "name": "stdout",
     "text": [
      "Hi.\n\tHi.\n7654321\n"
     ]
    }
   ],
   "source": [
    "print('Hi.\\n\\tHi.')\n",
    "print('1234567\\r7654321')"
   ]
  },
  {
   "cell_type": "markdown",
   "metadata": {},
   "source": [
    "#### String interpolation \n",
    "\n",
    "1. `%-formatting`\n",
    "2. [`str.format()`](https://pyformat.info/)\n",
    "3. [`f-string`](https://www.python.org/dev/peps/pep-0498/)"
   ]
  },
  {
   "cell_type": "code",
   "execution_count": 15,
   "metadata": {},
   "outputs": [
    {
     "output_type": "stream",
     "name": "stdout",
     "text": [
      "Hi, change.\nHi, change.\nHi, change.\n"
     ]
    }
   ],
   "source": [
    "name = 'change'\n",
    "\n",
    "print('Hi, %s.' % name)\n",
    "print('Hi, {}.'.format(name))\n",
    "print(f'Hi, {name}.')"
   ]
  },
  {
   "cell_type": "code",
   "execution_count": 16,
   "metadata": {},
   "outputs": [
    {
     "output_type": "stream",
     "name": "stdout",
     "text": [
      "Today is 2021/07/22.\nPi is 3.142.\n"
     ]
    }
   ],
   "source": [
    "import datetime\n",
    "\n",
    "today = datetime.datetime.now()\n",
    "print(f'Today is {today:%Y}/{today:%m}/{today:%d}.')\n",
    "\n",
    "print(f'Pi is {3.14159265:.3f}.')"
   ]
  },
  {
   "cell_type": "markdown",
   "metadata": {},
   "source": [
    "## 연산자\n",
    "\n",
    "### 산술 연산자\n",
    "\n",
    "|연산자|내용|\n",
    "|-----|---|\n",
    "|+|덧셈|\n",
    "|-|뺄셈|\n",
    "|\\*|곱셈|\n",
    "|/|나눗셈|\n",
    "|//|몫|\n",
    "|%|나머지|\n",
    "|\\*\\*|거듭 제곱|\n"
   ]
  },
  {
   "cell_type": "code",
   "execution_count": 17,
   "metadata": {},
   "outputs": [
    {
     "output_type": "stream",
     "name": "stdout",
     "text": [
      "1024\n2.5\n2\n1\n(2, 1)\n-4\n4\n"
     ]
    }
   ],
   "source": [
    "print(2 ** 10)\n",
    "\n",
    "print(5 / 2)\n",
    "print(5 // 2)\n",
    "print(5 % 2)\n",
    "print(divmod(5, 2))\n",
    "\n",
    "print(-4)\n",
    "print(-(-4))"
   ]
  },
  {
   "cell_type": "markdown",
   "metadata": {},
   "source": [
    "### 비교 연산자\n",
    "\n",
    "|연산자|내용|\n",
    "|-----|---|\n",
    "|a > b|초과|\n",
    "|a < b|미만|\n",
    "|a >= b|이상|\n",
    "|a <= b|이하|\n",
    "|a == b|같음|\n",
    "|a != b|같지 않음|\n",
    "\n"
   ]
  },
  {
   "cell_type": "code",
   "execution_count": 18,
   "metadata": {},
   "outputs": [
    {
     "output_type": "stream",
     "name": "stdout",
     "text": [
      "False\nTrue\nTrue\nFalse\n"
     ]
    }
   ],
   "source": [
    "print(3 > 6)\n",
    "\n",
    "print(3 != 6)\n",
    "print(3 == 3.0)\n",
    "print('a' == 'ab')"
   ]
  },
  {
   "cell_type": "markdown",
   "metadata": {},
   "source": [
    "### 논리 연산자\n",
    "\n",
    "|연산자|내용|\n",
    "|---|---|\n",
    "|a and b|a와 b 모두 True면 True|\n",
    "|a or b|a 와 b 모두 False면 False|\n",
    "|not a|True -> False, False -> True|"
   ]
  },
  {
   "cell_type": "code",
   "execution_count": 19,
   "metadata": {},
   "outputs": [
    {
     "output_type": "stream",
     "name": "stdout",
     "text": [
      "True\nFalse\nFalse\nFalse\nTrue\nTrue\nTrue\nFalse\nFalse\nTrue\nTrue\nFalse\n"
     ]
    }
   ],
   "source": [
    "print(True and True)\n",
    "print(True and False)\n",
    "print(False and True)\n",
    "print(False and False)\n",
    "\n",
    "print(True or True)\n",
    "print(True or False)\n",
    "print(False or True)\n",
    "print(False or False)\n",
    "\n",
    "print(not True)\n",
    "print(not 0)\n",
    "print(not '')\n",
    "print(not 'Hi.')"
   ]
  },
  {
   "cell_type": "markdown",
   "metadata": {},
   "source": [
    "and, or 연산이 값을 사용할 때 and는 a가 거짓이면 a를, 참이면 b를 반환하고 or는 a가 참이면 a를, 거짓이면 b를 반환합니다."
   ]
  },
  {
   "cell_type": "code",
   "execution_count": 20,
   "metadata": {},
   "outputs": [
    {
     "output_type": "stream",
     "name": "stdout",
     "text": [
      "0\n5\n3\n0\n3\n3\n5\n3\n"
     ]
    }
   ],
   "source": [
    "print(3 and 0)\n",
    "print(3 and 5)\n",
    "print(5 and 3)\n",
    "print(0 and 3)\n",
    "\n",
    "print(3 or 0)\n",
    "print(3 or 5)\n",
    "print(5 or 3)\n",
    "print(0 or 3)"
   ]
  },
  {
   "cell_type": "markdown",
   "metadata": {},
   "source": [
    "### 복합 연산자\n",
    "\n",
    "|연산자|내용|\n",
    "|-----|---|\n",
    "|a += b|a = a + b|\n",
    "|a -= b|a = a - b|\n",
    "|a \\*= b|a = a \\* b|\n",
    "|a /= b|a = a / b|\n",
    "|a //= b|a = a // b|\n",
    "|a %= b|a = a % b|\n",
    "|a \\*\\*= b|a = a ** b|"
   ]
  },
  {
   "cell_type": "code",
   "execution_count": 21,
   "metadata": {},
   "outputs": [
    {
     "output_type": "stream",
     "name": "stdout",
     "text": [
      "5\n"
     ]
    }
   ],
   "source": [
    "cnt = 0\n",
    "while cnt < 5:\n",
    "    cnt += 1\n",
    "print(cnt)"
   ]
  },
  {
   "cell_type": "markdown",
   "metadata": {},
   "source": [
    "### 기타 연산자\n",
    "\n",
    "1. Concatenation: 숫자가 아닌 자료형은 `+`로 합칠 수 있습니다.\n",
    "2. Containment Test: `in`으로 특정 요소가 데이터 집합에 있는지 확인할 수 있습니다.\n",
    "3. Identity: `is`로 동일한 객체인지 확인할 수 있습니다.\n",
    "4. Indexing/Slicing: `[n]`로 접근, `[:]`로 슬라이싱을 할 수 있습니다."
   ]
  },
  {
   "cell_type": "code",
   "execution_count": 22,
   "metadata": {},
   "outputs": [
    {
     "output_type": "stream",
     "name": "stdout",
     "text": [
      "ab\n[1, 2, 3, 4, 5]\nFalse\nTrue\nTrue\nTrue\nH\n"
     ]
    }
   ],
   "source": [
    "print('a' + 'b')\n",
    "print([1, 2, 3] + [4, 5])\n",
    "\n",
    "print('z' in 'apple')\n",
    "print(1 in [1, 2, 3])\n",
    "\n",
    "a, b = 5, 5\n",
    "print(a is b)\n",
    "\n",
    "a, b = 1000, 1000\n",
    "print(a is b)\n",
    "\n",
    "print('Hello.'[0])"
   ]
  },
  {
   "cell_type": "markdown",
   "metadata": {},
   "source": [
    "### 연산자 우선순위\n",
    "\n",
    "0. `()`을 통한 grouping\n",
    "1. Slicing\n",
    "2. Indexing\n",
    "3. \\*\\*\n",
    "4. 음양 부호\n",
    "5. \\*, /, %\n",
    "6. +, -\n",
    "7. `in`, `is`\n",
    "8. `not`\n",
    "9. `and`\n",
    "10. `or`"
   ]
  },
  {
   "cell_type": "markdown",
   "metadata": {},
   "source": [
    "## 형변환(Type conversion, Typecasting)\n",
    "\n",
    "1. 암시적 형변환(Implicit Type Conversion): 사용자가 의도하지 않았지만 자동으로 형변환하는 경우입니다."
   ]
  },
  {
   "cell_type": "code",
   "execution_count": 23,
   "metadata": {},
   "outputs": [
    {
     "output_type": "stream",
     "name": "stdout",
     "text": [
      "4\n6.140000000000001\n(6.140000000000001+5j)\n"
     ]
    }
   ],
   "source": [
    "print(True + 3)\n",
    "\n",
    "print(3 + 3.14)\n",
    "print(3.14 + 3 + 5j)"
   ]
  },
  {
   "cell_type": "markdown",
   "metadata": {},
   "source": [
    "2. 명시적 형변환(Explicit Type Conversion): 사용자가 타입을 바꾸는 경우입니다."
   ]
  },
  {
   "cell_type": "code",
   "execution_count": 24,
   "metadata": {},
   "outputs": [
    {
     "output_type": "stream",
     "name": "stdout",
     "text": [
      "1st\n15\n"
     ]
    }
   ],
   "source": [
    "print(str(1) + 'st')\n",
    "print(int('5') + 10)"
   ]
  },
  {
   "cell_type": "markdown",
   "metadata": {},
   "source": [
    "## 시퀀스(sequence)\n",
    "\n",
    "데이터가 순서대로 나열된 형식을 나타냅니다."
   ]
  },
  {
   "cell_type": "markdown",
   "metadata": {},
   "source": [
    "1. 리스트: []로 만들 수 있습니다."
   ]
  },
  {
   "cell_type": "code",
   "execution_count": 25,
   "metadata": {},
   "outputs": [
    {
     "output_type": "stream",
     "name": "stdout",
     "text": [
      "<class 'list'>\n<class 'list'>\n"
     ]
    }
   ],
   "source": [
    "arr = []\n",
    "print(type(arr))\n",
    "print(type(list()))"
   ]
  },
  {
   "cell_type": "code",
   "execution_count": 26,
   "metadata": {},
   "outputs": [
    {
     "output_type": "stream",
     "name": "stdout",
     "text": [
      "3\n"
     ]
    }
   ],
   "source": [
    "numbers = [1, 2, 3, 4, 5]\r\n",
    "print(numbers[2])"
   ]
  },
  {
   "cell_type": "markdown",
   "metadata": {},
   "source": [
    "2. 튜플: 리스트와 유사하지만 ()을 사용합니다. 수정불가능(immutable)한 타입으로 읽을 수 밖에 없습니다."
   ]
  },
  {
   "cell_type": "code",
   "execution_count": 27,
   "metadata": {},
   "outputs": [
    {
     "output_type": "stream",
     "name": "stdout",
     "text": [
      "<class 'tuple'>\n(1, 2)\n<class 'tuple'>\n1\n2\n2\n1\n"
     ]
    }
   ],
   "source": [
    "print(type((1, 2)))\n",
    "\n",
    "a = 1, 2\n",
    "print(a)\n",
    "print(type(a))\n",
    "\n",
    "x, y = 1, 2\n",
    "print(x)\n",
    "print(y)\n",
    "\n",
    "x, y = y, x\n",
    "print(x)\n",
    "print(y)"
   ]
  },
  {
   "cell_type": "markdown",
   "metadata": {},
   "source": [
    "3. range: 숫자 시퀀스를 위해 사용하며 `range(n)`으로 표현합니다. 기본적으로 0부터 n-1까지 값을 반환합니다. 범위, 스텝을 지정할 수 있습니다."
   ]
  },
  {
   "cell_type": "code",
   "execution_count": 28,
   "metadata": {},
   "outputs": [
    {
     "output_type": "stream",
     "name": "stdout",
     "text": [
      "<class 'range'>\n[0, 1, 2, 3, 4]\n[4, 5, 6, 7, 8]\n[0, -1, -2, -3, -4, -5, -6, -7, -8, -9]\n"
     ]
    }
   ],
   "source": [
    "print(type(range(5)))\n",
    "\n",
    "print(list(range(5)))\n",
    "print(list(range(4, 9)))\n",
    "print(list(range(0, -10, -1)))"
   ]
  },
  {
   "cell_type": "markdown",
   "metadata": {},
   "source": [
    "### 시퀀스에서 활용할 수 있는 연산자와 함수 \n",
    "\n",
    "|연산자와 함수|설명|\n",
    "|---------|---|\n",
    "|x in s|containment test|\n",
    "|x not in s|containment test|\n",
    "|s1 + s2|concatenation|\n",
    "|s * n|n번 반복해 더하기|\n",
    "|s\\[i\\]|indexing|\n",
    "|s\\[i:j\\]|slicing|\n",
    "|s\\[i:j:k\\]|k 간격으로 slicing|\n",
    "|len(s)|길이|\n",
    "|min(s)|최솟값|\n",
    "|max(s)|최댓값|\n",
    "|s.count(x)|x의 개수|"
   ]
  },
  {
   "cell_type": "code",
   "execution_count": 29,
   "metadata": {},
   "outputs": [
    {
     "output_type": "stream",
     "name": "stdout",
     "text": [
      "True\nTrue\nab\n[1, 2, 4, 5, 6]\n[0, 0, 0, 0, 0]\naaaaaaaaaa\n2\n[1, 2]\n[0, 3, 6, 9, 12, 15, 18, 21, 24, 27, 30]\n2\n"
     ]
    }
   ],
   "source": [
    "print('i' in 'string')\n",
    "print(5 not in [1, 2, 3])\n",
    "\n",
    "print('a' + 'b')\n",
    "print([1, 2] + [4, 5, 6])\n",
    "\n",
    "print([0] * 5)\n",
    "print('a' * 10)\n",
    "\n",
    "print([1, 2, 3][1])\n",
    "print([1, 2, 3][0:2])\n",
    "\n",
    "print(list(range(31))[::3])\n",
    "\n",
    "print([1, 2, 3, 4, 3, 2, 5, 1, 6, 8].count(3))"
   ]
  },
  {
   "cell_type": "markdown",
   "metadata": {},
   "source": [
    "4. set: 집합으로 `{}`로 만들며 순서와 중복이 없습니다."
   ]
  },
  {
   "source": [
    "|연산자와 함수|설명|\n",
    "|---|---|\n",
    "|a - b|차집합|\n",
    "|a \\| b|합집합|\n",
    "|a & b|교집합|\n",
    "|a.intersection(b)|차집합|\n",
    "|a.union(b)|합집합|\n",
    "|a.intersection(b)|교집합|"
   ],
   "cell_type": "markdown",
   "metadata": {}
  },
  {
   "cell_type": "code",
   "execution_count": 30,
   "metadata": {},
   "outputs": [
    {
     "output_type": "stream",
     "name": "stdout",
     "text": [
      "{1, 2}\n{1, 2, 3, 6, 9}\n{3}\n"
     ]
    }
   ],
   "source": [
    "a = {1, 2, 3}\n",
    "b = {3, 6, 9}\n",
    "\n",
    "print(a - b)\n",
    "print(a | b)\n",
    "print(a & b)"
   ]
  },
  {
   "cell_type": "markdown",
   "metadata": {},
   "source": [
    "5. Dictionary: key-value 쌍으로 구성된 자료구조로 `{}`와 `dict()`로 만듭니다. key는 immutable하며 중복이 없고 value는 무엇이든 가능합니다."
   ]
  },
  {
   "cell_type": "code",
   "execution_count": 31,
   "metadata": {},
   "outputs": [
    {
     "output_type": "stream",
     "name": "stdout",
     "text": [
      "<class 'dict'>\n<class 'dict'>\n"
     ]
    }
   ],
   "source": [
    "print(type({}))\n",
    "print(type(dict()))"
   ]
  },
  {
   "cell_type": "code",
   "execution_count": 32,
   "metadata": {},
   "outputs": [
    {
     "output_type": "stream",
     "name": "stdout",
     "text": [
      "red\ndict_keys(['apple', 'banana', 'melon'])\ndict_values(['red', 'yellow', 'green'])\n"
     ]
    }
   ],
   "source": [
    "fruit = {'apple': 'red', 'banana': 'yellow', 'melon': 'green'}\n",
    "\n",
    "print(fruit['apple'])\n",
    "\n",
    "print(fruit.keys())\n",
    "print(fruit.values())"
   ]
  },
  {
   "source": [
    "### 실습1: 자료구조 탐색하기\n",
    "\n",
    "아래의 자료구조를 탐색해보세요."
   ],
   "cell_type": "markdown",
   "metadata": {}
  },
  {
   "cell_type": "code",
   "execution_count": 33,
   "metadata": {},
   "outputs": [
    {
     "output_type": "stream",
     "name": "stdout",
     "text": [
      "3\nTrue\npython\nweb\nflask micro\ndjango full-functioning\n"
     ]
    }
   ],
   "source": [
    "data = {\n",
    "    'locations': ['Seoul', 'Daejeon', 'Gwang-ju'],\n",
    "    'languages': {\n",
    "        'python': {\n",
    "            'libraries': ['os', 'random', 'webbrowser'],\n",
    "            'frameworks': {\n",
    "                'flask': 'micro',\n",
    "                'django': 'full-functioning'\n",
    "            },\n",
    "            'data_sciences': ['numpy', 'pandas', 'scipy', 'scikit-learn'],\n",
    "            'scrapings': ['requests', 'bs4'],\n",
    "        },\n",
    "        'web' : ['HTML', 'CSS']\n",
    "    }\n",
    "}\n",
    "\n",
    "# Q1. 지역 갯수\n",
    "print(len(data['locations']))\n",
    "\n",
    "# Q2. scrapings내 requests 여부\n",
    "print('requests' in data['languages']['python']['scrapings'])\n",
    "\n",
    "# Q3. 배우는 언어들 출력\n",
    "for language in data['languages']:\n",
    "    print(language)\n",
    "    \n",
    "# Q4. frameworks의 이름과 설명을 출력\n",
    "frameworks = data['languages']['python']['frameworks']\n",
    "for framework, info in frameworks.items():\n",
    "    print(framework, info)"
   ]
  }
 ],
 "metadata": {
  "kernelspec": {
   "name": "python3",
   "display_name": "Python 3.9.6 64-bit"
  },
  "language_info": {
   "codemirror_mode": {
    "name": "ipython",
    "version": 3
   },
   "file_extension": ".py",
   "mimetype": "text/x-python",
   "name": "python",
   "nbconvert_exporter": "python",
   "pygments_lexer": "ipython3",
   "version": "3.9.6"
  },
  "interpreter": {
   "hash": "f35fc79419f428a04d94f3b50c385284aa458c4e0d0bb24e14f83429163e39ac"
  }
 },
 "nbformat": 4,
 "nbformat_minor": 2
}