{
 "cells": [
  {
   "cell_type": "markdown",
   "metadata": {},
   "source": [
    "# OOP advanced"
   ]
  },
  {
   "cell_type": "markdown",
   "metadata": {},
   "source": [
    "## 클래스 변수 / 인스턴스 변수"
   ]
  },
  {
   "source": [
    "### 클래스 변수\n",
    "\n",
    "클래스의 속성으로 클래스 선언 블록 최상단에 위치합니다. `Class.class_variable`로 접근하거나 할당합니다. 인스턴스 역시 클래스 변수에 접근할 수 있습니다.\n",
    "\n",
    "```python\n",
    "class TestClass:\n",
    "    class_variable = 'class_variable'\n",
    "\n",
    "print(TestClass.class_variable)\n",
    "TestClass.class_variable = 'class variable'\n",
    "print(TestClass.class_variable)\n",
    "\n",
    "tc = TestClass()\n",
    "tc.class_variable\n",
    "```"
   ],
   "cell_type": "markdown",
   "metadata": {}
  },
  {
   "source": [
    "### 인스턴스 변수\n",
    "\n",
    "인스턴스의 속성으로 `self.instance_variable`로 접근하거나 할당합니다. 인스턴스가 생성된 이후에는 `instance.instance_variable`로 접근하거나 할당합니다.\n",
    "\n",
    "```python\n",
    "class TestClass:\n",
    "    def __init__(self, arg1, arg2):\n",
    "        self.instance_var1 = arg1\n",
    "        self.instance_var2 = arg2\n",
    "\n",
    "    def status(self):\n",
    "        return self.instance_var1, self.instance_var2\n",
    "\n",
    "tc = TestClass(1, 2)\n",
    "print(tc.instance_var1)\n",
    "print(tc.instance_var2)\n",
    "print(tc.status())\n",
    "```"
   ],
   "cell_type": "markdown",
   "metadata": {}
  },
  {
   "cell_type": "code",
   "execution_count": 1,
   "metadata": {},
   "outputs": [],
   "source": [
    "class Student:\n",
    "    money = 0\n",
    "\n",
    "    def __init__(self, location, major):\n",
    "        self.location = location\n",
    "        self.major = major\n",
    "\n",
    "    def status(self):\n",
    "        return self.location, self.major"
   ]
  },
  {
   "cell_type": "code",
   "execution_count": 2,
   "metadata": {},
   "outputs": [
    {
     "output_type": "stream",
     "name": "stdout",
     "text": [
      "5000\n"
     ]
    }
   ],
   "source": [
    "Student.money = 5000\n",
    "\n",
    "print(Student.money)"
   ]
  },
  {
   "cell_type": "code",
   "execution_count": 3,
   "metadata": {},
   "outputs": [
    {
     "output_type": "stream",
     "name": "stdout",
     "text": [
      "Suwon\nManagement\n"
     ]
    }
   ],
   "source": [
    "student = Student('Suwon', 'Management')\n",
    "\n",
    "print(student.location)\n",
    "print(student.major)"
   ]
  },
  {
   "cell_type": "markdown",
   "metadata": {},
   "source": [
    "## 인스턴스 메서드 / 클래스 메서드 / 스태틱(정적) 메서드 "
   ]
  },
  {
   "source": [
    "### 인스턴스 메서드\n",
    "\n",
    "인스턴스가 사용할 메서드로 **어떠한 데코레이터도 붙지 않아야 합니다.** 첫 번째 인자로 `self`를 쓰며 이는 인스턴스 객체를 의미합니다.\n",
    "\n",
    "```python\n",
    "class MyClass:\n",
    "    def instance_method_name(self, arg1, arg2):\n",
    "        self.arg1 = arg1\n",
    "        self.arg2 = arg2\n",
    "\n",
    "my_instance = MyClass()\n",
    "my_instance.instance_method_name(1, 2)\n",
    "```"
   ],
   "cell_type": "markdown",
   "metadata": {}
  },
  {
   "source": [
    "### 클래스 메서드\n",
    "\n",
    "클래스가 사용할 메서드로 **`@classmethod` 데코레이터를 사용합니다.** 첫 번째 인자로 `cls`를 쓰며 이는 클래스 객체를 의미합니다.\n",
    "\n",
    "```python\n",
    "class MyClass:\n",
    "    @classmethod\n",
    "    def class_method_name(cls, arg1, arg2):\n",
    "        return arg1, arg2\n",
    "        \n",
    "print(MyClass.class_method_name(1, 2))\n",
    "```"
   ],
   "cell_type": "markdown",
   "metadata": {}
  },
  {
   "source": [
    "### 스태틱(정적) 메서드\n",
    "\n",
    "클래스가 사용할 메서드로 **`@staticmethod` 데코레이터를 사용합니다.** 인자를 자유롭게 정의할 수 있습니다.\n",
    "\n",
    "```python\n",
    "class MyClass:\n",
    "    @staticmethod\n",
    "    def static_method_name(arg1, arg2):\n",
    "        print(arg1, arg2)\n",
    "\n",
    "MyClass.static_method_name(1, 2)\n",
    "```"
   ],
   "cell_type": "markdown",
   "metadata": {}
  },
  {
   "cell_type": "code",
   "execution_count": 4,
   "metadata": {},
   "outputs": [],
   "source": [
    "class MyClass:\n",
    "    def instance_method(self):\n",
    "        return self\n",
    "\n",
    "    @classmethod\n",
    "    def class_method(cls):\n",
    "        return cls\n",
    "\n",
    "    @staticmethod\n",
    "    def static_method(arg):\n",
    "        return arg\n"
   ]
  },
  {
   "cell_type": "code",
   "execution_count": 5,
   "metadata": {},
   "outputs": [],
   "source": [
    "my_class = MyClass()"
   ]
  },
  {
   "cell_type": "code",
   "execution_count": 6,
   "metadata": {},
   "outputs": [
    {
     "output_type": "stream",
     "name": "stdout",
     "text": [
      "Use instance method.\n<__main__.MyClass object at 0x000002534992D100>\nTrue\n"
     ]
    }
   ],
   "source": [
    "print('Use instance method.')\n",
    "print(my_class.instance_method())\n",
    "print(my_class.instance_method() == my_class)"
   ]
  },
  {
   "cell_type": "code",
   "execution_count": 7,
   "metadata": {},
   "outputs": [
    {
     "output_type": "stream",
     "name": "stdout",
     "text": [
      "Use class method.\n<class '__main__.MyClass'>\nTrue\n"
     ]
    }
   ],
   "source": [
    "print('Use class method.')\n",
    "print(my_class.class_method())\n",
    "print(my_class.class_method() == MyClass)"
   ]
  },
  {
   "cell_type": "code",
   "execution_count": 8,
   "metadata": {},
   "outputs": [
    {
     "output_type": "stream",
     "name": "stdout",
     "text": [
      "Use static method.\nThis is static method.\n"
     ]
    }
   ],
   "source": [
    "print('Use static method.')\n",
    "print(my_class.static_method('This is static method.'))"
   ]
  },
  {
   "cell_type": "markdown",
   "metadata": {},
   "source": [
    "### 주의사항\n",
    "\n",
    "인스턴스는 모든 메서드에 접근할 수 있습니다. 다만 인스턴스에서 클래스 및 스태틱 메서드는 호출하지 않는게 좋습니다."
   ]
  },
  {
   "cell_type": "code",
   "execution_count": 9,
   "metadata": {},
   "outputs": [
    {
     "output_type": "stream",
     "name": "stdout",
     "text": [
      "<__main__.MyClass object at 0x000002534992D100>\n<class '__main__.MyClass'>\nThis is static method.\n"
     ]
    }
   ],
   "source": [
    "print(MyClass.instance_method(my_class))\n",
    "print(MyClass.class_method())\n",
    "print(MyClass.static_method('This is static method.'))"
   ]
  },
  {
   "cell_type": "code",
   "execution_count": 10,
   "metadata": {
    "scrolled": true
   },
   "outputs": [],
   "source": [
    "class Person:\n",
    "    population = 0\n",
    "\n",
    "    def __init__(self, name):\n",
    "        Person.population += 1\n",
    "        self.name = name\n",
    "\n",
    "    def greeting(self):        \n",
    "        return f'Hi, my name is {self.name}.'\n",
    "\n",
    "    def now(self):        \n",
    "        return f'There are {Person.population} people who are made now.'"
   ]
  },
  {
   "cell_type": "code",
   "execution_count": 11,
   "metadata": {},
   "outputs": [
    {
     "output_type": "stream",
     "name": "stdout",
     "text": [
      "Using instance.\nA\nHi, my name is A.\n\nUsing class.\n1\nHi, my name is A.\n"
     ]
    }
   ],
   "source": [
    "person = Person('A')\n",
    "\n",
    "print('Using instance.')\n",
    "print(person.name)\n",
    "print(person.greeting())\n",
    "\n",
    "print()\n",
    "\n",
    "print('Using class.')\n",
    "print(Person.population)\n",
    "print(Person.greeting(person))"
   ]
  },
  {
   "cell_type": "code",
   "execution_count": 12,
   "metadata": {},
   "outputs": [],
   "source": [
    "class Puppy:\n",
    "    num_of_dogs = 0\n",
    "    birth_of_dogs = 0\n",
    "\n",
    "    def __init__(self, name, age):\n",
    "        Puppy.num_of_dogs += 1\n",
    "        Puppy.birth_of_dogs += 1\n",
    "        self.name = name\n",
    "        self.age = age\n",
    "\n",
    "    def __del__(self):\n",
    "        Doggy.num_of_dogs -= 1\n",
    "\n",
    "    def now(self):\n",
    "        return f'There are {Puppy.num_of_dogs} dogs which are made now.'\n",
    "\n",
    "    @classmethod\n",
    "    def status(cls):\n",
    "        return f'There are {cls.birth_of_dogs} dogs born so far, and there are {cls.num_of_dogs} dogs now.'"
   ]
  },
  {
   "cell_type": "code",
   "execution_count": 13,
   "metadata": {},
   "outputs": [
    {
     "output_type": "stream",
     "name": "stdout",
     "text": [
      "There are 1 dogs which are made now.\nThere are 1 dogs born so far, and there are 1 dogs now.\n"
     ]
    }
   ],
   "source": [
    "puppy = Puppy('a', 1)\n",
    "\n",
    "print(puppy.now())\n",
    "print(Puppy.status())"
   ]
  },
  {
   "cell_type": "code",
   "execution_count": 14,
   "metadata": {},
   "outputs": [],
   "source": [
    "class Kitty:\n",
    "    num_of_cats = 0\n",
    "    birth_of_cats = 0\n",
    "\n",
    "    def __init__(self, name, age):\n",
    "        Kitty.num_of_cats += 1\n",
    "        Kitty.birth_of_cats += 1\n",
    "        self.name = name\n",
    "        self.age = age\n",
    "\n",
    "    def __del__(self):\n",
    "        Kitty.num_of_cats -= 1\n",
    "\n",
    "    def now(self):\n",
    "        return f'There are {Kitty.num_of_cats} cats which are made now.'\n",
    "\n",
    "    @classmethod\n",
    "    def status(cls):\n",
    "        return f'There are {cls.birth_of_cats} cats born so far, and there are {cls.num_of_cats} cats now.'\n",
    "\n",
    "    @staticmethod\n",
    "    def info():\n",
    "        return 'This is a cat. It is very cute.'"
   ]
  },
  {
   "cell_type": "code",
   "execution_count": 15,
   "metadata": {},
   "outputs": [
    {
     "output_type": "stream",
     "name": "stdout",
     "text": [
      "There are 1 cats which are made now.\nThere are 1 cats born so far, and there are 1 cats now.\nThis is a cat. It is very cute.\n"
     ]
    }
   ],
   "source": [
    "kitty = Kitty('a', 1)\n",
    "\n",
    "print(Kitty.now(kitty))\n",
    "print(Kitty.status())\n",
    "print(Kitty.info())"
   ]
  },
  {
   "cell_type": "markdown",
   "metadata": {},
   "source": [
    "### 실습1: 스태틱(정적) 메소드\n",
    "\n",
    "다음 역할을 수행하는 계산기 `class Calculator`를 만드세요.\n",
    "\n",
    "- 모든 메서드는 정적 메서드로 두 수를 받아서 각 연산을 한 결과를 반환합니다. 단, `a 연산자 b` 순서로 연산합니다.\n",
    "    1. `add(a, b)`: 덧셈\n",
    "    2. `sub(a, b)`: 뺄셈 \n",
    "    3. `mul(a, b)`: 곱셈\n",
    "    4. `div(a, b)`: 나눗셈"
   ]
  },
  {
   "cell_type": "code",
   "execution_count": 16,
   "metadata": {},
   "outputs": [],
   "source": [
    "class Calculator:\n",
    "    @staticmethod\n",
    "    def add(a, b):\n",
    "        return a + b\n",
    "\n",
    "    @staticmethod\n",
    "    def sub(a, b):\n",
    "        return a - b\n",
    "\n",
    "    @staticmethod\n",
    "    def mul(a, b):\n",
    "        return a * b\n",
    "\n",
    "    @staticmethod\n",
    "    def div(a, b):\n",
    "        try:\n",
    "            return a / b\n",
    "        except ZeroDivisionError:\n",
    "            return 'Can not divide by zero.'"
   ]
  },
  {
   "cell_type": "code",
   "execution_count": 17,
   "metadata": {},
   "outputs": [
    {
     "output_type": "execute_result",
     "data": {
      "text/plain": [
       "'Can not divide by zero.'"
      ]
     },
     "metadata": {},
     "execution_count": 17
    }
   ],
   "source": [
    "Calculator.div(1, 0)"
   ]
  },
  {
   "cell_type": "markdown",
   "metadata": {},
   "source": [
    "## 상속 \n",
    "\n",
    "상속으로 부모 클래스의 모든 속성을 자식 클래스에서 활용해 코드 재사용성이 높아집니다."
   ]
  },
  {
   "cell_type": "code",
   "execution_count": 18,
   "metadata": {},
   "outputs": [],
   "source": [
    "class Person:\n",
    "    def __init__(self, name='unknown'):\n",
    "        self.name = name\n",
    "\n",
    "    def greeting(self):\n",
    "        print(f'Hi, I am {self.name}.')"
   ]
  },
  {
   "cell_type": "code",
   "execution_count": 19,
   "metadata": {},
   "outputs": [],
   "source": [
    "class Student(Person):\n",
    "    def __init__(self, student_id, name='unknown'):\n",
    "        self.student_id = student_id\n",
    "        self.name = name"
   ]
  },
  {
   "cell_type": "code",
   "execution_count": 20,
   "metadata": {},
   "outputs": [
    {
     "output_type": "stream",
     "name": "stdout",
     "text": [
      "Hi, I am reny.\nNone\n"
     ]
    }
   ],
   "source": [
    "student = Student(100101101, 'reny')\n",
    "\n",
    "print(student.greeting())"
   ]
  },
  {
   "cell_type": "code",
   "execution_count": 21,
   "metadata": {},
   "outputs": [
    {
     "output_type": "execute_result",
     "data": {
      "text/plain": [
       "True"
      ]
     },
     "metadata": {},
     "execution_count": 21
    }
   ],
   "source": [
    "issubclass(Student, Person)"
   ]
  },
  {
   "cell_type": "markdown",
   "metadata": {},
   "source": [
    "### super()\n",
    "\n",
    "자식 클래스의 메서드에서 부모 클래스의 메서드를 그대로 사용하려면 `super()`를 사용하거나 오버라이딩 하지 않습니다."
   ]
  },
  {
   "cell_type": "code",
   "execution_count": 22,
   "metadata": {},
   "outputs": [
    {
     "output_type": "stream",
     "name": "stdout",
     "text": [
      "Hello, change.\nHello, reny.\n"
     ]
    }
   ],
   "source": [
    "class Person:\n",
    "    def __init__(self, name, age, number, email):\n",
    "        self.name = name\n",
    "        self.age = age\n",
    "        self.number = number\n",
    "        self.email = email \n",
    "\n",
    "    def greeting(self):        \n",
    "        print(f'Hello, {self.name}.')\n",
    "\n",
    "    def speak(self):        \n",
    "        print('Hello.')\n",
    "        \n",
    "        \n",
    "class Student(Person):\n",
    "    def __init__(self, name, age, number, email, student_id):\n",
    "        super().__init__(name, age, number, email)\n",
    "        self.student_id = student_id\n",
    "\n",
    "\n",
    "person = Person('change', 35, '01035469842', 'change@google.com')\n",
    "student = Student('reny', 28, '01064578512', 'reny@naver.com', 100101101)\n",
    "\n",
    "person.greeting()\n",
    "student.greeting()"
   ]
  },
  {
   "cell_type": "markdown",
   "metadata": {},
   "source": [
    "### 메서드 오버라이딩\n",
    "\n",
    "메서드를 재정의할 수 있습니다."
   ]
  },
  {
   "cell_type": "code",
   "execution_count": 23,
   "metadata": {},
   "outputs": [
    {
     "output_type": "stream",
     "name": "stdout",
     "text": [
      "Loyalty! Private soldier gwanghee!\n"
     ]
    }
   ],
   "source": [
    "class Soldier(Person):\n",
    "    def __init__(self, name, age, number, email, army_id):\n",
    "        super().__init__(name, age, number, email)\n",
    "        self.army_id = army_id\n",
    "    \n",
    "    def greeting(self):        \n",
    "        print(f'Loyalty! Private soldier {self.name}!')\n",
    "\n",
    "\n",
    "soldier = Soldier('gwanghee', 22, '01045796541', 'gwanghee@kakao.com', 153545896514)\n",
    "soldier.greeting()"
   ]
  },
  {
   "cell_type": "markdown",
   "metadata": {},
   "source": [
    "### 연산자 오버라이딩\n",
    "\n",
    "연산자를 직접 정의해 활용할 수 있습니다.\n",
    "\n",
    "```text\n",
    "+  __add__   \n",
    "-  __sub__\n",
    "*  __mul__\n",
    "<  __lt__\n",
    "<= __le__\n",
    "== __eq__\n",
    "!= __ne__\n",
    ">= __ge__\n",
    ">  __gt__\n",
    "```"
   ]
  },
  {
   "cell_type": "code",
   "execution_count": 24,
   "metadata": {},
   "outputs": [
    {
     "output_type": "stream",
     "name": "stdout",
     "text": [
      "False\n"
     ]
    }
   ],
   "source": [
    "class Person:\n",
    "    def __init__(self, name, age):\n",
    "        self.name = name\n",
    "        self.age = age\n",
    "\n",
    "    def __gt__(self, other):\n",
    "        return True if self.age > other.age else False\n",
    "\n",
    "\n",
    "old = Person('old', 100)\n",
    "young = Person('young', 5)\n",
    "\n",
    "print(old < young)"
   ]
  },
  {
   "cell_type": "markdown",
   "metadata": {},
   "source": [
    "### 실습2\n",
    "\n",
    "Teacher 클래스를 만들고 Student와 Teacher 클래스에 각각 다른 메소드들을 하나씩 추가해봅시다."
   ]
  },
  {
   "cell_type": "code",
   "execution_count": 25,
   "metadata": {},
   "outputs": [
    {
     "output_type": "stream",
     "name": "stdout",
     "text": [
      "중고등학교\nChange`s class is class 4.\n"
     ]
    }
   ],
   "source": [
    "import random\n",
    "\n",
    "\n",
    "class Teacher(Person):\n",
    "    def __init__(self, name, age, grade, subject):\n",
    "        super().__init__(name, age)\n",
    "        self.grade = grade\n",
    "        self.subject = subject\n",
    "\n",
    "    def school(self):\n",
    "        return '초등학교' if self.grade == '초등교사' else '중고등학교' if self.grade == '중등교사' else '해당 학교가 없습니다.'\n",
    "\n",
    "    def my_class(self):\n",
    "        self.my_class = random.randrange(1, 5)       \n",
    "        return f'{self.name.title()}`s class is class {self.my_class}.'\n",
    "\n",
    "\n",
    "teacher = Teacher('change', 31, '중등교사', '과학')\n",
    "\n",
    "print(teacher.school())\n",
    "print(teacher.my_class())"
   ]
  },
  {
   "cell_type": "markdown",
   "metadata": {},
   "source": [
    "### 실습3\n",
    "\n",
    "Animal 클래스를 만들고, Person 클래스가 상속받도록 구성해봅시다."
   ]
  },
  {
   "cell_type": "code",
   "execution_count": 26,
   "metadata": {},
   "outputs": [
    {
     "output_type": "stream",
     "name": "stdout",
     "text": [
      "Hi, human`s change.\nHello human`s me. I am 26.\n"
     ]
    }
   ],
   "source": [
    "class Animal:\n",
    "    def __init__(self, name, species):\n",
    "        self.name = name\n",
    "        self.species = species\n",
    "\n",
    "    def hi(self):        \n",
    "        print(f'Hi, {self.species}`s {self.name}.')\n",
    "\n",
    "\n",
    "animal = Animal('change', 'human')\n",
    "animal.hi()\n",
    "\n",
    "\n",
    "class Person(Animal):\n",
    "    def __init__(self, name, species, age):\n",
    "        super().__init__(name, species)\n",
    "        self.age = age\n",
    "    \n",
    "    def hello(self):        \n",
    "        print(f'Hello {self.species}`s {self.name}. I am {self.age}.')\n",
    "\n",
    "        \n",
    "person = Person('me', 'human', 26)\n",
    "person.hello()"
   ]
  },
  {
   "cell_type": "markdown",
   "metadata": {},
   "source": [
    "### 다중 상속\n",
    "\n",
    "두 개 이상의 클래스를 상속받는 경우를 다중상속이라고 합니다."
   ]
  },
  {
   "cell_type": "code",
   "execution_count": 27,
   "metadata": {},
   "outputs": [],
   "source": [
    "class Person:\n",
    "    def __init__(self, name):\n",
    "        self.name = name\n",
    "\n",
    "    def breath(self):\n",
    "        print('Huha. Huha.')\n",
    "\n",
    "    def greeting(self):\n",
    "        print(f'I am {self.name}.')"
   ]
  },
  {
   "cell_type": "code",
   "execution_count": 28,
   "metadata": {},
   "outputs": [],
   "source": [
    "class Mom(Person):\n",
    "    sex = 'XX'\n",
    "\n",
    "    def swim(self):\n",
    "        print('A-pow. A-pow.')"
   ]
  },
  {
   "cell_type": "code",
   "execution_count": 29,
   "metadata": {},
   "outputs": [],
   "source": [
    "class Dad(Person):\n",
    "    sex = 'XY'\n",
    "\n",
    "    def climing(self):\n",
    "        print('There is a mountain, so I am going up.')"
   ]
  },
  {
   "cell_type": "code",
   "execution_count": 30,
   "metadata": {},
   "outputs": [],
   "source": [
    "class Child(Dad, Mom):\n",
    "    def swim(self):\n",
    "        print('Chum-bung.')\n",
    "\n",
    "    def cry(self):\n",
    "        print('Ung-ae. Ung-ae.')"
   ]
  },
  {
   "cell_type": "code",
   "execution_count": 31,
   "metadata": {},
   "outputs": [
    {
     "output_type": "stream",
     "name": "stdout",
     "text": [
      "Ung-ae. Ung-ae.\nChum-bung.\nThere is a mountain, so I am going up.\n"
     ]
    }
   ],
   "source": [
    "child = Child('change')\n",
    "\n",
    "child.cry()\n",
    "child.swim()\n",
    "child.climing()"
   ]
  },
  {
   "cell_type": "code",
   "execution_count": 32,
   "metadata": {},
   "outputs": [
    {
     "output_type": "execute_result",
     "data": {
      "text/plain": [
       "'XY'"
      ]
     },
     "metadata": {},
     "execution_count": 32
    }
   ],
   "source": [
    "child.sex"
   ]
  },
  {
   "cell_type": "markdown",
   "metadata": {},
   "source": [
    "### 실습4: 포켓몬 구현하기\n",
    "\n",
    "포켓몬 클래스를 상속하는 이상해씨, 파이리, 꼬부기를 구현해 봅시다. 모든 포켓몬은 다음과 같은 속성을 갖습니다.\n",
    "\n",
    "- `name`: 이름\n",
    "- `level`: 레벨, 시작할 때 모두 5입니다.\n",
    "- `hp`: 체력, 체력은 `level * 20`입니다.\n",
    "- `exp`: 경험치\n",
    "    상대방을 쓰러뜨리면 상대방의 `level * 15`를 획득합니다. 경험치가 `level * 100`이 되면 레벨이 하나 오르고 0으로 돌아갑니다."
   ]
  },
  {
   "cell_type": "code",
   "execution_count": 33,
   "metadata": {},
   "outputs": [],
   "source": [
    "class Pokemon:\n",
    "    def __init__(self, name='야생의 포켓몬'):\n",
    "        self.name = name\n",
    "        self.level = 5\n",
    "        self.hp = self.level * 20\n",
    "        self.exp = 0\n",
    "\n",
    "        print(f'나와라! {self.name}!\\n')\n",
    "\n",
    "    def stat(self):\n",
    "        print(f'현재 {self.name}의 체력은 {self.hp}입니다.')\n",
    "        print(f'현재 레벨은 {self.level}이며 현재 경험치는 {self.exp}/{self.level * 100}입니다.\\n')\n",
    "\n",
    "    def now_hp(self):\n",
    "        if self.hp <= 0:\n",
    "            self.__del__()\n",
    "        else:            \n",
    "            print(f'현재 {self.name}의 체력은 {self.hp}입니다.\\n')\n",
    "        \n",
    "    def now_exp(self):\n",
    "        if self.exp >= 100:\n",
    "            self.level += 1\n",
    "            self.exp -= 100\n",
    "            print(f'{self.name}의 레벨이 1올랐다! 현재 레벨은 {self.level}입니다!\\n')\n",
    "        print(f'현재 {self.name}의 경험치는 {self.exp}입니다.\\n')\n",
    "    \n",
    "    def body_attack(self, enemy):\n",
    "        if enemy.hp > 0:\n",
    "            enemy.hp -= self.level * 5\n",
    "            print(f'{self.name}의 몸통박치기! {enemy.name}의 hp를 {self.level * 5}만큼 깎았다!\\n')\n",
    "            if enemy.hp <= 0:\n",
    "                self.exp += enemy.level * 15\n",
    "                print('이겼다!\\n')\n",
    "                self.now_exp()\n",
    "                self.now_hp()\n",
    "                enemy.__del__()\n",
    "        else:\n",
    "            print('상대할 피카츄가 없습니다.\\n')\n",
    "\n",
    "    def heal(self, num):\n",
    "        if self.hp < 100:\n",
    "            if type(num) == int:\n",
    "                hp += num\n",
    "                if hp > 100:\n",
    "                    hp = 100\n",
    "                print(f'{self.name}의 체력을 {num}만큼 회복했습니다.\\n')\n",
    "            else:\n",
    "                print('체력을 회복할 수단이 없습니다.\\n')\n",
    "        else:\n",
    "            print('체력이 이미 가득찼습니다.\\n')\n",
    "\n",
    "    def __del__(self):\n",
    "        print(f'{self.name}은(는) 눈 앞이 깜깜해졌다!\\n')"
   ]
  },
  {
   "cell_type": "code",
   "execution_count": 34,
   "metadata": {},
   "outputs": [],
   "source": [
    "class Bulbasaur(Pokemon):\n",
    "    def __init__(self, name, p_type='glass'):\n",
    "        super().__init__(name)\n",
    "        self.p_type = p_type"
   ]
  },
  {
   "cell_type": "code",
   "execution_count": 35,
   "metadata": {},
   "outputs": [],
   "source": [
    "class Charmander(Pokemon):\n",
    "    def __init__(self, name, p_type='fire'):\n",
    "        super().__init__(name)\n",
    "        self.p_type = p_type"
   ]
  },
  {
   "cell_type": "code",
   "execution_count": 36,
   "metadata": {},
   "outputs": [
    {
     "output_type": "stream",
     "name": "stdout",
     "text": [
      "나와라! 이상해씨!\n\n나와라! 파이리!\n\n파이리의 몸통박치기! 이상해씨의 hp를 25만큼 깎았다!\n\n파이리의 몸통박치기! 이상해씨의 hp를 25만큼 깎았다!\n\n파이리의 몸통박치기! 이상해씨의 hp를 25만큼 깎았다!\n\n파이리의 몸통박치기! 이상해씨의 hp를 25만큼 깎았다!\n\n이겼다!\n\n현재 파이리의 경험치는 75입니다.\n\n현재 파이리의 체력은 100입니다.\n\n이상해씨은(는) 눈 앞이 깜깜해졌다!\n\n현재 이상해씨의 체력은 0입니다.\n현재 레벨은 5이며 현재 경험치는 0/500입니다.\n\n"
     ]
    }
   ],
   "source": [
    "b = Bulbasaur('이상해씨')\n",
    "c = Charmander('파이리')\n",
    "\n",
    "c.body_attack(b)\n",
    "c.body_attack(b)\n",
    "c.body_attack(b)\n",
    "c.body_attack(b)\n",
    "\n",
    "b.stat()"
   ]
  }
 ],
 "metadata": {
  "kernelspec": {
   "name": "python3",
   "display_name": "Python 3.9.6 64-bit"
  },
  "language_info": {
   "codemirror_mode": {
    "name": "ipython",
    "version": 3
   },
   "file_extension": ".py",
   "mimetype": "text/x-python",
   "name": "python",
   "nbconvert_exporter": "python",
   "pygments_lexer": "ipython3",
   "version": "3.9.6"
  },
  "latex_envs": {
   "LaTeX_envs_menu_present": true,
   "autoclose": false,
   "autocomplete": true,
   "bibliofile": "biblio.bib",
   "cite_by": "apalike",
   "current_citInitial": 1,
   "eqLabelWithNumbers": true,
   "eqNumInitial": 1,
   "hotkeys": {
    "equation": "Ctrl-E",
    "itemize": "Ctrl-I"
   },
   "labels_anchors": false,
   "latex_user_defs": false,
   "report_style_numbering": false,
   "user_envs_cfg": false
  },
  "toc": {
   "base_numbering": 1,
   "nav_menu": {},
   "number_sections": true,
   "sideBar": true,
   "skip_h1_title": false,
   "title_cell": "Table of Contents",
   "title_sidebar": "Contents",
   "toc_cell": false,
   "toc_position": {},
   "toc_section_display": true,
   "toc_window_display": false
  },
  "interpreter": {
   "hash": "f35fc79419f428a04d94f3b50c385284aa458c4e0d0bb24e14f83429163e39ac"
  }
 },
 "nbformat": 4,
 "nbformat_minor": 2
}