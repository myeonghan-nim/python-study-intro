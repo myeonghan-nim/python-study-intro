{
 "cells": [
  {
   "cell_type": "markdown",
   "source": [
    "### 문자열 탐색\n",
    "\n",
    "문자로만 이루어진 리스트를 넣었을 때, 길이가 2 이상이고 문자열의 첫번째와 마지막 문자가 같은 문자열의 수를 세는 함수 `start_end`를 작성하세요."
   ],
   "metadata": {}
  },
  {
   "cell_type": "code",
   "execution_count": 1,
   "source": [
    "def start_end(words):\r\n",
    "    cnt = 0\r\n",
    "    for word in words:\r\n",
    "        if len(word) >= 2 and word[0] == word[-1]:\r\n",
    "            cnt += 1\r\n",
    "    return cnt"
   ],
   "outputs": [],
   "metadata": {}
  },
  {
   "cell_type": "code",
   "execution_count": 2,
   "source": [
    "print(start_end(['level', 'asdwe', 's', 'abceda', 'gsdwrtfg']))"
   ],
   "outputs": [
    {
     "output_type": "stream",
     "name": "stdout",
     "text": [
      "3\n"
     ]
    }
   ],
   "metadata": {}
  },
  {
   "cell_type": "markdown",
   "source": [
    "### 최대공약수, 최소공배수 구하기\n",
    "\n",
    "두 수를 입력받아 두 수의 최대공약수와 최소공배수를 반환하는 함수, gcdlcm을 만드세요. 배열의 맨 앞에 최대공약수, 그 다음에 최소공배수를 넣어 반환하면 됩니다."
   ],
   "metadata": {}
  },
  {
   "cell_type": "code",
   "execution_count": 3,
   "source": [
    "def gcdlcm(num1, num2):\r\n",
    "\r\n",
    "    cd = [n1 for n1 in range(1, num1 + 1) if not num1 % n1]\r\n",
    "    gcd = [n2 for n2 in range(1, num2 + 1) if not num2 % n2 and n2 in cd]\r\n",
    "\r\n",
    "    cm = [n1 * num1 for n1 in range(1, num2 + 1)]\r\n",
    "    lcm = [n2 * num2 for n2 in range(1, num1 + 1) if n2 * num2 in cm]\r\n",
    "\r\n",
    "    return [max(gcd), min(lcm)]"
   ],
   "outputs": [],
   "metadata": {}
  },
  {
   "cell_type": "code",
   "execution_count": 4,
   "source": [
    "print(gcdlcm(3, 12))\r\n",
    "print(gcdlcm(1071, 1029))"
   ],
   "outputs": [
    {
     "output_type": "stream",
     "name": "stdout",
     "text": [
      "[3, 12]\n",
      "[21, 52479]\n"
     ]
    }
   ],
   "metadata": {}
  },
  {
   "cell_type": "markdown",
   "source": [
    "### Collatz 추측\n",
    "\n",
    "1937년 Collatz에 의해 제기된 이 추측은, 주어진 수가 1이 될 때까지 다음 작업을 반복하면, 모든 수를 1로 만들 수 있다는 추측입니다. 작업은 다음과 같습니다.\n",
    "\n",
    "1. 입력된 수가 짝수라면 2로 나눕니다. \n",
    "2. 입력된 수가 홀수라면 3을 곱하고 1을 더합니다.\n",
    "3. 결과로 나온 수에 같은 작업을 1이 될 때까지 반복합니다.\n",
    "\n",
    "예를 들어, 입력된 수가 6이라면 6→3→10→5→16→8→4→2→1로 총 8번 만에 1이 됩니다. 위 작업을 몇 번이나 반복해야하는지 반환하는 함수, collatz를 만드세요. 단, 작업을 500번 이상 반복해도 1이 되지 않는다면 –1을 반환해 주세요."
   ],
   "metadata": {}
  },
  {
   "cell_type": "code",
   "execution_count": 5,
   "source": [
    "def collatz(num):\r\n",
    "    for cnt in range(500):\r\n",
    "        num = (num * 3 + 1) if num % 2 else num / 2\r\n",
    "        if num == 1:\r\n",
    "            return cnt + 1\r\n",
    "    return -1"
   ],
   "outputs": [],
   "metadata": {}
  },
  {
   "cell_type": "code",
   "execution_count": 6,
   "source": [
    "print(collatz(6))\r\n",
    "print(collatz(16))\r\n",
    "print(collatz(27))\r\n",
    "print(collatz(626331))"
   ],
   "outputs": [
    {
     "output_type": "stream",
     "name": "stdout",
     "text": [
      "8\n",
      "4\n",
      "111\n",
      "-1\n"
     ]
    }
   ],
   "metadata": {}
  },
  {
   "cell_type": "markdown",
   "source": [
    "### 이상한 덧셈\n",
    "\n",
    "숫자들을 받아 양의 정수의 합을 구하는 함수 `positive_sum`을 작성하세요."
   ],
   "metadata": {}
  },
  {
   "cell_type": "code",
   "execution_count": 7,
   "source": [
    "def positive_sum(*args):\r\n",
    "    res = 0\r\n",
    "    for n in args:\r\n",
    "        if n > 0:\r\n",
    "            res += n\r\n",
    "    return res"
   ],
   "outputs": [],
   "metadata": {}
  },
  {
   "cell_type": "code",
   "execution_count": 8,
   "source": [
    "print(positive_sum(1, -4, 7, 12))\r\n",
    "print(positive_sum(-1, -2, -3, -4))"
   ],
   "outputs": [
    {
     "output_type": "stream",
     "name": "stdout",
     "text": [
      "20\n",
      "0\n"
     ]
    }
   ],
   "metadata": {}
  }
 ],
 "metadata": {
  "kernelspec": {
   "name": "python3",
   "display_name": "Python 3.9.6 64-bit"
  },
  "language_info": {
   "codemirror_mode": {
    "name": "ipython",
    "version": 3
   },
   "file_extension": ".py",
   "mimetype": "text/x-python",
   "name": "python",
   "nbconvert_exporter": "python",
   "pygments_lexer": "ipython3",
   "version": "3.9.6"
  },
  "interpreter": {
   "hash": "f35fc79419f428a04d94f3b50c385284aa458c4e0d0bb24e14f83429163e39ac"
  }
 },
 "nbformat": 4,
 "nbformat_minor": 2
}