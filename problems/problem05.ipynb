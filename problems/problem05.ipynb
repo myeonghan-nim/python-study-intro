{
 "cells": [
  {
   "cell_type": "markdown",
   "source": [
    "### 2진수\n",
    "\n",
    "사용자의 입력을 받아 2진수 인지 아닌지 확인하는 코드를 작성하세요. 만약 숫자가 아닌 입력값이 들어오면 '숫자가 아닙니다'를 출력하세요."
   ],
   "metadata": {}
  },
  {
   "cell_type": "code",
   "execution_count": 1,
   "source": [
    "num = input()\r\n",
    "if num.isdigit():\r\n",
    "    if set(num) - {'0', '1'} == set():\r\n",
    "        print('It is binary.')\r\n",
    "    else:\r\n",
    "        print('It is not binary.')\r\n",
    "else:\r\n",
    "    print('Please enter a number.')"
   ],
   "outputs": [
    {
     "output_type": "stream",
     "name": "stdout",
     "text": [
      "It is not binary.\n"
     ]
    }
   ],
   "metadata": {}
  },
  {
   "cell_type": "markdown",
   "source": [
    "### 불쌍한 달팽이\n",
    "\n",
    "달팽이는 낮 동안 기둥을 타고 올라갑니다. 하지만 밤에는 잠을 자면서 일정 거리만큼 미끄러집니다(단, 낮에 올라간 거리보다는 적게 미끄러집니다). 달팽이가 기둥 꼭대기에 도달하는 날까지 걸리는 시간을 계산하세요.\n",
    "\n",
    "함수에 들어가야 되는 인자들은 다음과 같습니다.\n",
    "\n",
    "1. 기둥의 높이(미터)\n",
    "2. 낮 동안 달팽이가 올라가는 거리(미터)\n",
    "3. 달팽이가 밤에 잠을 자는 동안 미끄러지는 거리(미터)"
   ],
   "metadata": {}
  },
  {
   "cell_type": "code",
   "execution_count": 2,
   "source": [
    "def snail(height, up, down):\r\n",
    "    day = 0\r\n",
    "\r\n",
    "    while height > 0:\r\n",
    "        day += 1\r\n",
    "        height -= up\r\n",
    "        if height <= 0:\r\n",
    "            return day\r\n",
    "        height += down\r\n",
    "\r\n",
    "    return day"
   ],
   "outputs": [],
   "metadata": {}
  },
  {
   "cell_type": "code",
   "execution_count": 3,
   "source": [
    "print(snail(100, 5, 2))"
   ],
   "outputs": [
    {
     "output_type": "stream",
     "name": "stdout",
     "text": [
      "33\n"
     ]
    }
   ],
   "metadata": {}
  },
  {
   "cell_type": "markdown",
   "source": [
    "### 무엇이 중복일까\n",
    "\n",
    "리스트에서 중복된 요소만 뽑아서 새로운 리스트에 옮기는 함수를 만드세요."
   ],
   "metadata": {}
  },
  {
   "cell_type": "code",
   "execution_count": 4,
   "source": [
    "def duplicated(words):\r\n",
    "    return list(set(char for char in words if words.count(char) > 1))"
   ],
   "outputs": [],
   "metadata": {}
  },
  {
   "cell_type": "code",
   "execution_count": 5,
   "source": [
    "duplicated(['a', 'b', 'c', 'b', 'd', 'm', 'n', 'n', 'b'])"
   ],
   "outputs": [
    {
     "output_type": "execute_result",
     "data": {
      "text/plain": [
       "['b', 'n']"
      ]
     },
     "metadata": {},
     "execution_count": 5
    }
   ],
   "metadata": {}
  },
  {
   "cell_type": "markdown",
   "source": [
    "### 편-안한 단어\n",
    "\n",
    "QWERTY 키보드를 사용하여 타이핑을 한다고 가정할 때 '편-안한 단어'란 **양 손을 번갈아가며 칠 수 있는 단어**를 말합니다. 어떤 단어가 '편-안한 단어'를 True/False로 반환하는 함수를 만드세요.\n",
    "\n",
    "각 손에 할당되는 문자 목록은 아래와 같습니다.\n",
    "\n",
    "- 왼손: q, w, e, r, t, a, s, s, d, f, g, z, x, c, v, b\n",
    "- 오른손: y, u, i, o, p, h, j, k, l, n, m"
   ],
   "metadata": {}
  },
  {
   "cell_type": "code",
   "execution_count": 6,
   "source": [
    "def comportable_word(word):\r\n",
    "    left = 'qwertasdfgzxcvb'\r\n",
    "\r\n",
    "    res = ''\r\n",
    "    for char in word:\r\n",
    "        res += 'l' if char in left else 'r'\r\n",
    "        if len(res) > 2:\r\n",
    "            if res[-2:] in ('ll', 'rr'):\r\n",
    "                return False\r\n",
    "\r\n",
    "    return True"
   ],
   "outputs": [],
   "metadata": {}
  },
  {
   "cell_type": "code",
   "execution_count": 7,
   "source": [
    "print(comportable_word('qywu'))\r\n",
    "print(comportable_word('apple'))\r\n",
    "print(comportable_word('apwldofkemvnxhskwmdiwkslapwldkvhdjekvmtlco'))"
   ],
   "outputs": [
    {
     "output_type": "stream",
     "name": "stdout",
     "text": [
      "True\n",
      "False\n",
      "True\n"
     ]
    }
   ],
   "metadata": {}
  },
  {
   "cell_type": "markdown",
   "source": [
    "### 숫자패턴\n",
    "\n",
    "입력받은 행까지 아래 패턴을 생성하는 함수를 작성하세요. 만약 입력이 0이하 정수인 경우 빈 문자열을 반환하세요. 짝수인 경우 패턴은 짝수보다 작은 최대 홀수까지 계속되어야 합니다. 단, 패턴에 공백은 없습니다.\n",
    "\n",
    "```text\n",
    "print(pattern(9))\n",
    "\n",
    "1\n",
    "333\n",
    "55555\n",
    "7777777\n",
    "999999999\n",
    "\n",
    "print(pattern(6))\n",
    "\n",
    "1\n",
    "333\n",
    "55555\n",
    "```"
   ],
   "metadata": {}
  },
  {
   "cell_type": "code",
   "execution_count": 8,
   "source": [
    "def pattern(num):\r\n",
    "    res = ''\r\n",
    "\r\n",
    "    if num <= 0:\r\n",
    "        return res\r\n",
    "\r\n",
    "    for i in range(1, num + 1, 2):\r\n",
    "        res += str(i) * i + '\\n'\r\n",
    "\r\n",
    "    return res"
   ],
   "outputs": [],
   "metadata": {}
  },
  {
   "cell_type": "code",
   "execution_count": 9,
   "source": [
    "print(pattern(9))\r\n",
    "print(pattern(6))"
   ],
   "outputs": [
    {
     "output_type": "stream",
     "name": "stdout",
     "text": [
      "1\n",
      "333\n",
      "55555\n",
      "7777777\n",
      "999999999\n",
      "\n",
      "1\n",
      "333\n",
      "55555\n",
      "\n"
     ]
    }
   ],
   "metadata": {}
  }
 ],
 "metadata": {
  "kernelspec": {
   "name": "python394jvsc74a57bd00ba107a77b37d02b3124484f4e7459b0ee0a01efc2e2225cd1e7752a0995fbc2",
   "display_name": "Python 3.9.4 64-bit ('venv')"
  },
  "language_info": {
   "codemirror_mode": {
    "name": "ipython",
    "version": 3
   },
   "file_extension": ".py",
   "mimetype": "text/x-python",
   "name": "python",
   "nbconvert_exporter": "python",
   "pygments_lexer": "ipython3",
   "version": "3.9.4-final"
  }
 },
 "nbformat": 4,
 "nbformat_minor": 2
}