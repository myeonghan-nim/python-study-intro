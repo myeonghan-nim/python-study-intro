{
 "cells": [
  {
   "cell_type": "markdown",
   "source": [
    "### 상승장? 하락장?\n",
    "\n",
    "비트코인의 최고가와 최저가의 차이를 변동폭으로 정의할 때 (시작가 + 변동폭)이 최고가 보다 높다면 '상승장', 아니면 '하락장'을 출력하세요.\n",
    "\n",
    "| Key Name | Description |\n",
    "| ------ | --- |\n",
    "| opeing_price | 최근 24시간 내 시작 거래금액 |\n",
    "| closing_price | 최근 24시간 내 마지막 거래금액 |\n",
    "| min_price | 최근 24시간 내 최저 거래금액 |\n",
    "| max_price | 최근 24시간 내 최고 거래금액 |"
   ],
   "metadata": {}
  },
  {
   "cell_type": "code",
   "execution_count": 1,
   "source": [
    "import requests\r\n",
    "\r\n",
    "URL = 'https://api.bithumb.com/public/ticker/btc'\r\n",
    "data = requests.get(URL).json()['data']\r\n",
    "\r\n",
    "opening_price = int(data['opening_price'])\r\n",
    "max_price = int(data['max_price'])\r\n",
    "min_price = int(data['min_price'])\r\n",
    "\r\n",
    "diff = max_price - min_price\r\n",
    "if opening_price + diff > max_price:\r\n",
    "    print('Upswing')\r\n",
    "else:\r\n",
    "    print('Downswing')"
   ],
   "outputs": [
    {
     "output_type": "stream",
     "name": "stdout",
     "text": [
      "Upswing\n"
     ]
    }
   ],
   "metadata": {}
  },
  {
   "cell_type": "markdown",
   "source": [
    "### 모음 제거하기\n",
    "\n",
    "주어진 문장의 모음을 제거하세요."
   ],
   "metadata": {}
  },
  {
   "cell_type": "code",
   "execution_count": 2,
   "source": [
    "SENTENCE = 'Life is too short, you need python'\r\n",
    "vowels = 'aeiou'\r\n",
    "\r\n",
    "result = ''\r\n",
    "for char in SENTENCE:\r\n",
    "    if char not in vowels:\r\n",
    "        result += char\r\n",
    "\r\n",
    "print(result)"
   ],
   "outputs": [
    {
     "output_type": "stream",
     "name": "stdout",
     "text": [
      "Lf s t shrt, y nd pythn\n"
     ]
    }
   ],
   "metadata": {}
  },
  {
   "cell_type": "markdown",
   "source": [
    "### 개인정보보호\n",
    "\n",
    "사용자의 핸드폰 번호에 개인정보 보호를 위해 뒷자리 4자리를 제외하고 마스킹 처리를 하세요. 단, 핸드폰 번호는 010으로 시작해야 하고 11자리 이어야 하며 핸드폰 번호를 입력하지 않았다면 '핸드폰 번호를 입력하세요'를 출력하세요."
   ],
   "metadata": {}
  },
  {
   "cell_type": "code",
   "execution_count": 3,
   "source": [
    "phone = input()\r\n",
    "if phone[0:3] == '010' and len(phone) == 11:\r\n",
    "    print('*' * 7 + phone[-4:])\r\n",
    "else:\r\n",
    "    print('Please enter your cell phone number.')"
   ],
   "outputs": [
    {
     "output_type": "stream",
     "name": "stdout",
     "text": [
      "*******4532\n"
     ]
    }
   ],
   "metadata": {}
  },
  {
   "cell_type": "markdown",
   "source": [
    "### 정중앙\n",
    "\n",
    "사용자가 입력한 문자열의 가운데 글자를 출력하세요. 단, 문자열의 길이가 짝수라면 가운데 두 글자를 출력하세요."
   ],
   "metadata": {}
  },
  {
   "cell_type": "code",
   "execution_count": 4,
   "source": [
    "text = input()\r\n",
    "if len(text) % 2:\r\n",
    "    print(text[len(text) // 2])\r\n",
    "else:\r\n",
    "    print(text[len(text) // 2 - 1:len(text) // 2 + 1])"
   ],
   "outputs": [
    {
     "output_type": "stream",
     "name": "stdout",
     "text": [
      "th\n"
     ]
    }
   ],
   "metadata": {}
  }
 ],
 "metadata": {
  "kernelspec": {
   "name": "python3",
   "display_name": "Python 3.9.6 64-bit"
  },
  "language_info": {
   "codemirror_mode": {
    "name": "ipython",
    "version": 3
   },
   "file_extension": ".py",
   "mimetype": "text/x-python",
   "name": "python",
   "nbconvert_exporter": "python",
   "pygments_lexer": "ipython3",
   "version": "3.9.6"
  },
  "interpreter": {
   "hash": "f35fc79419f428a04d94f3b50c385284aa458c4e0d0bb24e14f83429163e39ac"
  }
 },
 "nbformat": 4,
 "nbformat_minor": 2
}