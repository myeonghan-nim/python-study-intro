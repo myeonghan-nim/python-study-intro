{
 "cells": [
  {
   "cell_type": "markdown",
   "source": [
    "### 모든 코인 상승장? 하락장?\n",
    "\n",
    "모든 코인에 대해 최고가와 최저가의 차이인 변동폭을 사용해 (시가 + 변동폭)이 최고가 보다 높을 경우 '상승장', 그렇지 않은 경우 '하락장'을 출력하세요.\n",
    "\n",
    "\n",
    "| Key Name | Description |\n",
    "| ------ | --- |\n",
    "| opeing_price | 최근 24시간 내 시작 거래금액 |\n",
    "| closing_price | 최근 24시간 내 마지막 거래금액 |\n",
    "| min_price | 최근 24시간 내 최저 거래금액 |\n",
    "| max_price | 최근 24시간 내 최고 거래금액 |"
   ],
   "metadata": {}
  },
  {
   "cell_type": "code",
   "execution_count": 1,
   "source": [
    "import requests\r\n",
    "\r\n",
    "URL = 'https://api.bithumb.com/public/ticker/all'\r\n",
    "data = requests.get(URL).json()['data']\r\n",
    "for coin, value in data.items():\r\n",
    "    if coin != 'date':\r\n",
    "        opening_price = float(value['opening_price'])\r\n",
    "        max_price = float(value['max_price'])\r\n",
    "        min_price = float(value['min_price'])\r\n",
    "\r\n",
    "        if opening_price + max_price - min_price > max_price:\r\n",
    "            print(f'{coin} is on the upswing.')\r\n",
    "        else:\r\n",
    "            print(f'{coin} is on the downswing.')"
   ],
   "outputs": [
    {
     "output_type": "stream",
     "name": "stdout",
     "text": [
      "BTC is on the upswing.\n",
      "ETH is on the upswing.\n",
      "LTC is on the upswing.\n",
      "ETC is on the upswing.\n",
      "XRP is on the upswing.\n",
      "BCH is on the upswing.\n",
      "QTUM is on the upswing.\n",
      "BTG is on the upswing.\n",
      "EOS is on the upswing.\n",
      "ICX is on the upswing.\n",
      "TRX is on the upswing.\n",
      "ELF is on the upswing.\n",
      "OMG is on the upswing.\n",
      "KNC is on the upswing.\n",
      "GLM is on the upswing.\n",
      "ZIL is on the upswing.\n",
      "WAXP is on the upswing.\n",
      "POWR is on the upswing.\n",
      "LRC is on the upswing.\n",
      "STEEM is on the upswing.\n",
      "STRAX is on the upswing.\n",
      "AE is on the upswing.\n",
      "ZRX is on the upswing.\n",
      "REP is on the upswing.\n",
      "XEM is on the upswing.\n",
      "SNT is on the upswing.\n",
      "ADA is on the upswing.\n",
      "CTXC is on the upswing.\n",
      "BAT is on the upswing.\n",
      "WTC is on the upswing.\n",
      "THETA is on the upswing.\n",
      "LOOM is on the upswing.\n",
      "WAVES is on the upswing.\n",
      "TRUE is on the upswing.\n",
      "LINK is on the upswing.\n",
      "RNT is on the upswing.\n",
      "ENJ is on the upswing.\n",
      "VET is on the downswing.\n",
      "MTL is on the upswing.\n",
      "IOST is on the upswing.\n",
      "TMTG is on the upswing.\n",
      "QKC is on the upswing.\n",
      "HDAC is on the upswing.\n",
      "WET is on the upswing.\n",
      "AMO is on the upswing.\n",
      "BSV is on the upswing.\n",
      "DAC is on the upswing.\n",
      "ORBS is on the upswing.\n",
      "TFUEL is on the upswing.\n",
      "VALOR is on the upswing.\n",
      "CON is on the upswing.\n",
      "ANKR is on the upswing.\n",
      "MIX is on the upswing.\n",
      "LAMB is on the upswing.\n",
      "CRO is on the upswing.\n",
      "FX is on the upswing.\n",
      "CHR is on the upswing.\n",
      "MBL is on the upswing.\n",
      "MXC is on the upswing.\n",
      "DVP is on the upswing.\n",
      "FCT is on the upswing.\n",
      "FNB is on the upswing.\n",
      "TRV is on the upswing.\n",
      "PCM is on the upswing.\n",
      "DAD is on the upswing.\n",
      "AOA is on the upswing.\n",
      "XSR is on the upswing.\n",
      "WOM is on the upswing.\n",
      "SOC is on the upswing.\n",
      "EM is on the upswing.\n",
      "QBZ is on the upswing.\n",
      "BOA is on the upswing.\n",
      "FLETA is on the upswing.\n",
      "SXP is on the upswing.\n",
      "COS is on the upswing.\n",
      "APIX is on the upswing.\n",
      "EL is on the upswing.\n",
      "BASIC is on the upswing.\n",
      "HIVE is on the upswing.\n",
      "XPR is on the upswing.\n",
      "FIT is on the upswing.\n",
      "EGG is on the upswing.\n",
      "BORA is on the upswing.\n",
      "ARPA is on the upswing.\n",
      "APM is on the upswing.\n",
      "AERGO is on the upswing.\n",
      "ANW is on the upswing.\n",
      "CENNZ is on the upswing.\n",
      "EVZ is on the upswing.\n",
      "MCI is on the upswing.\n",
      "SRM is on the upswing.\n",
      "QTCON is on the upswing.\n",
      "UNI is on the upswing.\n",
      "YFI is on the upswing.\n",
      "UMA is on the upswing.\n",
      "AAVE is on the upswing.\n",
      "COMP is on the upswing.\n",
      "SAND is on the upswing.\n",
      "CVT is on the upswing.\n",
      "GOM2 is on the upswing.\n",
      "RINGX is on the upswing.\n",
      "BEL is on the upswing.\n",
      "DVC is on the upswing.\n",
      "OBSR is on the upswing.\n",
      "ORC is on the upswing.\n",
      "POLA is on the upswing.\n",
      "AWO is on the upswing.\n",
      "ADP is on the upswing.\n",
      "DVI is on the upswing.\n",
      "MIR is on the upswing.\n",
      "MVC is on the upswing.\n",
      "WOZX is on the upswing.\n",
      "ANV is on the upswing.\n",
      "GRT is on the upswing.\n",
      "MM is on the upswing.\n",
      "BIOT is on the upswing.\n",
      "XNO is on the upswing.\n",
      "SNX is on the upswing.\n",
      "RAI is on the upswing.\n",
      "OXT is on the upswing.\n",
      "LINA is on the upswing.\n",
      "MANA is on the upswing.\n",
      "MKR is on the upswing.\n",
      "SUSHI is on the upswing.\n",
      "PUNDIX is on the upswing.\n",
      "LF is on the upswing.\n",
      "ALICE is on the upswing.\n",
      "BCD is on the upswing.\n",
      "XLM is on the upswing.\n",
      "GXC is on the upswing.\n",
      "BTT is on the upswing.\n",
      "VSYS is on the upswing.\n",
      "IPX is on the upswing.\n",
      "WICC is on the upswing.\n",
      "ONT is on the upswing.\n",
      "LUNA is on the upswing.\n",
      "AION is on the upswing.\n",
      "META is on the upswing.\n",
      "ONG is on the upswing.\n",
      "ALGO is on the upswing.\n",
      "JST is on the upswing.\n",
      "XTZ is on the upswing.\n",
      "MLK is on the upswing.\n",
      "WEMIX is on the upswing.\n",
      "DOT is on the upswing.\n",
      "SUN is on the upswing.\n",
      "ATOM is on the upswing.\n",
      "SSX is on the upswing.\n",
      "BCHA is on the upswing.\n",
      "TEMCO is on the upswing.\n",
      "BURGER is on the upswing.\n"
     ]
    }
   ],
   "metadata": {}
  },
  {
   "cell_type": "markdown",
   "source": [
    "### 평균점수\n",
    "\n",
    "주어진 dictionary의 평균 점수를 출력하세요.\n"
   ],
   "metadata": {}
  },
  {
   "cell_type": "code",
   "execution_count": 2,
   "source": [
    "student = {'python': 80, 'algorithm': 78, 'django': 95, 'flask': 80, }\r\n",
    "print(sum(student.values()) / len(student))"
   ],
   "outputs": [
    {
     "output_type": "stream",
     "name": "stdout",
     "text": [
      "83.25\n"
     ]
    }
   ],
   "metadata": {}
  },
  {
   "cell_type": "markdown",
   "source": [
    "### 혈액형\n",
    "\n",
    "학생들의 혈액형(A, B, O, AB)에 대한 데이터가 든 리스트를 사용해 각 혈액형이 몇 명인지 알려주는 dictionary를 만드세요."
   ],
   "metadata": {}
  },
  {
   "cell_type": "code",
   "execution_count": 3,
   "source": [
    "blood = ['A', 'A', 'B', 'O', 'A', 'B', 'A', 'AB', 'AB', 'O', 'A', 'O', 'AB', 'O']\r\n",
    "\r\n",
    "blood_dict = {}\r\n",
    "for b in blood:\r\n",
    "    blood_dict[b] = blood_dict[b] + 1 if b in blood_dict else 1\r\n",
    "\r\n",
    "print(blood_dict)"
   ],
   "outputs": [
    {
     "output_type": "stream",
     "name": "stdout",
     "text": [
      "{'A': 5, 'B': 2, 'O': 4, 'AB': 3}\n"
     ]
    }
   ],
   "metadata": {}
  },
  {
   "cell_type": "markdown",
   "source": [
    "### UBD\n",
    "\n",
    "movies dictionary는 영화 제목이 key, 누적 관객수가 value입니다. '자전차왕 엄복동'의 누적 관객수인 172212명을 1UBD라고 할때 80UBD를 넘지 못하는 영화를 출력하세요."
   ],
   "metadata": {}
  },
  {
   "cell_type": "code",
   "execution_count": 4,
   "source": [
    "movies = {\r\n",
    "    '7번방의선물': 12811206, '괴물': 13019740, '국제시장': 14257115, '극한직업': 16261018, '도둑들': 12983330,\r\n",
    "    '명량': 17613682, '베테랑': 13414009, '신과함께-죄와벌': 14410754, '아바타': 13624328, '어벤져스:엔드게임': 13901423,\r\n",
    "}\r\n",
    "\r\n",
    "UBD = 172212\r\n",
    "for name, counts in movies.items():\r\n",
    "    if 80 > (counts / UBD):\r\n",
    "        print(name)"
   ],
   "outputs": [
    {
     "output_type": "stream",
     "name": "stdout",
     "text": [
      "7번방의선물\n",
      "괴물\n",
      "도둑들\n",
      "베테랑\n",
      "아바타\n"
     ]
    }
   ],
   "metadata": {}
  }
 ],
 "metadata": {
  "kernelspec": {
   "name": "python394jvsc74a57bd00ba107a77b37d02b3124484f4e7459b0ee0a01efc2e2225cd1e7752a0995fbc2",
   "display_name": "Python 3.9.4 64-bit ('venv')"
  },
  "language_info": {
   "codemirror_mode": {
    "name": "ipython",
    "version": 3
   },
   "file_extension": ".py",
   "mimetype": "text/x-python",
   "name": "python",
   "nbconvert_exporter": "python",
   "pygments_lexer": "ipython3",
   "version": "3.9.4-final"
  }
 },
 "nbformat": 4,
 "nbformat_minor": 2
}