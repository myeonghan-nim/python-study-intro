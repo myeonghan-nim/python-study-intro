{
 "cells": [
  {
   "cell_type": "markdown",
   "source": [
    "### 버거지수\n",
    "\n",
    "한 도시의 발전 수준은 `(버거킹의 개수 + 맥도날드의 개수 + KFC의 개수) / 롯데리아의 개수`로 나타낼 수 있다고 합니다. 어떤 지역 정보가 담긴 dictionary를 받아 버거지수를 계산하는 함수를 만드세요."
   ],
   "metadata": {}
  },
  {
   "cell_type": "code",
   "execution_count": null,
   "source": [
    "def burger_num(bk, mc, kfc, lt):\r\n",
    "    return (bk + mc + kfc) / lt"
   ],
   "outputs": [],
   "metadata": {}
  },
  {
   "cell_type": "code",
   "execution_count": null,
   "source": [
    "markets = {'bk': 2, 'mc': 4, 'kfc': 1, 'lt': 3, }\r\n",
    "print(burger_num(**markets))"
   ],
   "outputs": [],
   "metadata": {}
  },
  {
   "cell_type": "markdown",
   "source": [
    "### 종합소득세 계산하기\n",
    "\n",
    "A라는 나라의 종합소득세는 과세표준 금액 구간에 따라 다른 세율이 적용됩니다.\n",
    "\n",
    "| 과세표준액 | 세율 |\n",
    "| ------- | --- |\n",
    "| 1200이하 | 6% |\n",
    "| 1200 ~ 4600 | 15% |\n",
    "| 4600 ~ | 35% |\n",
    "\n",
    "즉, 1300원을 벌었을 경우 1200\\*0.06 + 100\\*0.15를 계산한 결과가 납부해야 하는 세액입니다. 납부해야하는 세금의 결과를 반환하는 함수를 만들어보세요."
   ],
   "metadata": {}
  },
  {
   "cell_type": "code",
   "execution_count": null,
   "source": [
    "def tax(money):\r\n",
    "    if money <= 1200:\r\n",
    "        calc = money * 0.06\r\n",
    "    elif money <= 4600:\r\n",
    "        calc = 1200 * 0.06 + (money - 1200) * 0.15\r\n",
    "    else:\r\n",
    "        calc = 1200 * 0.06 + 3400 * 0.15 + (money - 4600) * 0.35\r\n",
    "    return calc"
   ],
   "outputs": [],
   "metadata": {}
  },
  {
   "cell_type": "code",
   "execution_count": null,
   "source": [
    "print(tax(1200))"
   ],
   "outputs": [],
   "metadata": {}
  },
  {
   "cell_type": "markdown",
   "source": [
    "### 텔레그램 챗봇\n",
    "\n",
    "텔레그램을 이용해 챗봇을 개발하려 합니다. API 공식문서에 `https://api.telegram.org/bot<token>/<method_name>`경로로 token과 사용할 메소드의 이름을 넣으라고 합니다. 사용자에게 토큰과 사용할 메소드 이름을 받아 url을 만들어주는 함수를 만드세요. 단, 개발자가 발급받은 토큰은 길이가 41자 이어야 하고 잘못된 토큰을 넣었다면 '403'을 반환하세요."
   ],
   "metadata": {}
  },
  {
   "cell_type": "code",
   "execution_count": null,
   "source": [
    "def telegram(token, method):\r\n",
    "    URL = 'https://api.telegram.org/bot'\r\n",
    "\r\n",
    "    if len(token) != 41:        \r\n",
    "        return 'Error 403'\r\n",
    "\r\n",
    "    return f'{URL}{token}/{method}'"
   ],
   "outputs": [],
   "metadata": {}
  },
  {
   "cell_type": "code",
   "execution_count": null,
   "source": [
    "print(telegram('123123:afjio;wef', 'getMe'))\r\n",
    "print(telegram('123456:ABC-DEF1234ghIkl-zyx57W2v1u123ew11', 'getMe'))"
   ],
   "outputs": [],
   "metadata": {}
  },
  {
   "cell_type": "markdown",
   "source": [
    "### 솔로 천국\n",
    "\n",
    "0 ~ 9로 이루어진 리스트에서 연속으로 나타나는 숫자는 하나만 남기고 전부 제거하려고 합니다. 리스트에서 연속으로 나타나는 숫자는 제거하고 남은 수들을 반환하는 함수를 작성하세요. 단, 제거된 후 남은 수들을 반환할 때 원래 리스트에서 요소들이 가지던 순서를 유지해야 합니다."
   ],
   "metadata": {}
  },
  {
   "cell_type": "code",
   "execution_count": null,
   "source": [
    "def lonely(couple):\r\n",
    "    solo = []\r\n",
    "\r\n",
    "    for num in couple:\r\n",
    "        if not solo:\r\n",
    "            solo.append(num)\r\n",
    "        if solo[-1] != num:\r\n",
    "            solo.append(num)\r\n",
    "\r\n",
    "    return solo"
   ],
   "outputs": [],
   "metadata": {
    "scrolled": true
   }
  },
  {
   "cell_type": "code",
   "execution_count": null,
   "source": [
    "print(lonely([1, 1, 3, 3, 0, 1, 1]))\r\n",
    "print(lonely([4, 4, 4, 3, 3]))"
   ],
   "outputs": [],
   "metadata": {}
  }
 ],
 "metadata": {
  "kernelspec": {
   "name": "python3",
   "display_name": "Python 3.9.6 64-bit"
  },
  "language_info": {
   "codemirror_mode": {
    "name": "ipython",
    "version": 3
   },
   "file_extension": ".py",
   "mimetype": "text/x-python",
   "name": "python",
   "nbconvert_exporter": "python",
   "pygments_lexer": "ipython3",
   "version": "3.9.6"
  },
  "interpreter": {
   "hash": "f35fc79419f428a04d94f3b50c385284aa458c4e0d0bb24e14f83429163e39ac"
  }
 },
 "nbformat": 4,
 "nbformat_minor": 2
}